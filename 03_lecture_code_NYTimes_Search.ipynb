{
 "cells": [
  {
   "cell_type": "markdown",
   "metadata": {},
   "source": [
    "# Accessing Databases via Web APIs: Lecture Code\n",
    "* * * * *"
   ]
  },
  {
   "cell_type": "markdown",
   "metadata": {},
   "source": [
    "#Lecture code by rochelleterman from https://github.com/rochelleterman/PS239T/blob/master/09_APIs/03_lecture_code.ipynb",
    ]
  },
  {
   "cell_type": "code",
   "execution_count": 2,
   "metadata": {
    "collapsed": false
   },
   "outputs": [],
   "source": [
    "# Import required libraries\n",
    "import requests\n",
    "import json\n",
    "from __future__ import division\n",
    "import math"
   ]
  },
  {
   "cell_type": "markdown",
   "metadata": {},
   "source": [
    "## 1. Constructing API GET Request\n",
    "\n",
    "In the first place, we know that every call will require us to provide a) a base URL for the API, b) some authorization code or key, and c) a format for the response. So let's put store those in some variables."
   ]
  },
  {
   "cell_type": "code",
   "execution_count": 3,
   "metadata": {
    "collapsed": true
   },
   "outputs": [],
   "source": [
    "# set key\n",
    "key=\"e8011f45d5fcabd97a89e71a5264bc1b:10:74910678\"\n",
    "\n",
    "# set base url\n",
    "base_url=\"http://api.nytimes.com/svc/search/v2/articlesearch\"\n",
    "\n",
    "# set response format\n",
    "response_format=\".json\""
   ]
  },
  {
   "cell_type": "markdown",
   "metadata": {},
   "source": [
    "You often want to send some sort of data in the URL’s query string. This data tells the API what information you want. In our case, we want articles about Duke Ellington. Requests allows you to provide these arguments as a dictionary, using the `params` keyword argument. In addition to the search term `q`, we have to put in the `api-key` term."
   ]
  },
  {
   "cell_type": "code",
   "execution_count": 4,
   "metadata": {
    "collapsed": true
   },
   "outputs": [],
   "source": [
    "# set search parameters\n",
    "search_params = {\"q\":\"Duke Ellington\",\n",
    "                 \"api-key\":key, \"begin_date\":20050101,}       "
   ]
  },
  {
   "cell_type": "markdown",
   "metadata": {},
   "source": [
    "Now we're ready to make the request. We use the `.get` method from the `requests` library to make an HTTP GET Request."
   ]
  },
  {
   "cell_type": "code",
   "execution_count": 5,
   "metadata": {
    "collapsed": false
   },
   "outputs": [],
   "source": [
    "# make request\n",
    "r = requests.get(base_url+response_format, params=search_params)"
   ]
  },
  {
   "cell_type": "markdown",
   "metadata": {},
   "source": [
    "Now, we have a [response](http://docs.python-requests.org/en/latest/api/#requests.Response) object called `r`. We can get all the information we need from this object. For instance, we can see that the URL has been correctly encoded by printing the URL. Click on the link to see what happens."
   ]
  },
  {
   "cell_type": "code",
   "execution_count": 6,
   "metadata": {
    "collapsed": false
   },
   "outputs": [
    {
     "name": "stdout",
     "output_type": "stream",
     "text": [
      "http://api.nytimes.com/svc/search/v2/articlesearch.json?q=Duke+Ellington&api-key=e8011f45d5fcabd97a89e71a5264bc1b%3A10%3A74910678&begin_date=20050101\n"
     ]
    }
   ],
   "source": [
    "print (r.url)"
   ]
  },
  {
   "cell_type": "markdown",
   "metadata": {},
   "source": [
    "Click on that link to see it returns!"
   ]
  },
  {
   "cell_type": "markdown",
   "metadata": {},
   "source": [
    "### Challenge 1:  Adding a date range\n",
    "\n",
    "What if we only want to search within a particular date range? The NYT Article Api allows us to specify start and end dates.\n",
    "\n",
    "Alter the `search_params` code above so that the request only searches for articles in the year 2005.\n",
    "\n",
    "You're gonna need to look at the documentation [here](http://developer.nytimes.com/docs/read/article_search_api_v2) to see how to do this."
   ]
  },
  {
   "cell_type": "code",
   "execution_count": 10,
   "metadata": {
    "collapsed": true
   },
   "outputs": [],
   "source": [
    "#YOUR CODE HERE\n",
    "\n",
    "# Uncomment to test\n",
    "# r = requests.get(base_url+response_format, params=search_params)\n",
    "# r.url"
   ]
  },
  {
   "cell_type": "markdown",
   "metadata": {},
   "source": [
    "### Challenge 2:  Specifying a results page\n",
    "\n",
    "The above will return the first 10 results. To get the next ten, you need to add a \"page\" parameter. Change the search parameters above to get the second 10 resuls. "
   ]
  },
  {
   "cell_type": "code",
   "execution_count": 11,
   "metadata": {
    "collapsed": true
   },
   "outputs": [],
   "source": [
    "#YOUR CODE HERE\n",
    "\n",
    "# Uncomment to test\n",
    "# r = requests.get(base_url+response_format, params=search_params)\n",
    "# r.url"
   ]
  },
  {
   "cell_type": "markdown",
   "metadata": {},
   "source": [
    "## 2. Parsing the response text"
   ]
  },
  {
   "cell_type": "markdown",
   "metadata": {},
   "source": [
    "We can read the content of the server’s response using `.text`"
   ]
  },
  {
   "cell_type": "code",
   "execution_count": 7,
   "metadata": {
    "collapsed": false
   },
   "outputs": [
    {
     "name": "stdout",
     "output_type": "stream",
     "text": [
      "{\"response\":{\"meta\":{\"hits\":1172,\"time\":321,\"offset\":0},\"docs\":[{\"web_url\":\"http:\\/\\/www.nytimes.com\\/2016\\/02\\/07\\/nyregion\\/city-history-and-vantages-often-overlooked.html\",\"snippet\":\"Remembering Manhattan\\u2019s role as the nation\\u2019s first capital, paying tribute to an unsung composer and enjoying bird\\u2019s-eye views of the skyline.\",\"lead_paragraph\":\"Remembering Manhattan\\u2019s role as the nation\\u2019s first capital, paying tribute to an unsung composer and enjoying bird\\u2019s-eye views of the skyline.\",\"abstract\":\"Sam Roberts reviews books The First Congress: How James Madison, George Washington and a Group of Extraordinary Men Invented the Government by Fergus M Bordewich,  Strayhorn: An Illustrated Life edited by A Alyce Claerbaut and David Schlesinger and New York From Above by Evan Joseph. \",\"print_page\":\"3\",\"blog\":[],\"source\":\"The New York Times\",\"multimedia\":[{\"width\":190,\"url\":\"images\\/2016\\/02\\/07\\/nyregion\\/07BOOKSHELF\\/07BOOKSHELF-thumbWide.jpg\",\"height\":126,\"su\n"
     ]
    }
   ],
   "source": [
    "# Inspect the content of the response, parsing the result as text\n",
    "response_text= r.text\n",
    "print (response_text[:1000])"
   ]
  },
  {
   "cell_type": "markdown",
   "metadata": {},
   "source": [
    "What you see here is JSON text, encoded as unicode text. JSON stands for \"Javascript object notation.\" It has a very similar structure to a python dictionary -- both are built on key/value pairs. This makes it easy to convert JSON response to a python dictionary."
   ]
  },
  {
   "cell_type": "code",
   "execution_count": 8,
   "metadata": {
    "collapsed": false
   },
   "outputs": [
    {
     "data": {
      "text/plain": [
       "{'copyright': 'Copyright (c) 2013 The New York Times Company.  All Rights Reserved.',\n",
       " 'response': {'docs': [{'_id': '56b5288a38f0d86b498f997d',\n",
       "    'abstract': 'Sam Roberts reviews books The First Congress: How James Madison, George Washington and a Group of Extraordinary Men Invented the Government by Fergus M Bordewich,  Strayhorn: An Illustrated Life edited by A Alyce Claerbaut and David Schlesinger and New York From Above by Evan Joseph. ',\n",
       "    'blog': [],\n",
       "    'byline': {'original': 'By SAM ROBERTS',\n",
       "     'person': [{'firstname': 'Sam',\n",
       "       'lastname': 'ROBERTS',\n",
       "       'organization': '',\n",
       "       'rank': 1,\n",
       "       'role': 'reported'}]},\n",
       "    'document_type': 'article',\n",
       "    'headline': {'content_kicker': 'Bookshelf',\n",
       "     'kicker': 'Bookshelf',\n",
       "     'main': 'City History, and Vantages, Often Overlooked',\n",
       "     'print_headline': 'A Congress, a Composer and a Skyline  '},\n",
       "    'keywords': [{'is_major': 'Y',\n",
       "      'name': 'subject',\n",
       "      'rank': '1',\n",
       "      'value': 'Books and Literature'},\n",
       "     {'is_major': 'Y',\n",
       "      'name': 'persons',\n",
       "      'rank': '2',\n",
       "      'value': 'Bordewich, Fergus M'},\n",
       "     {'is_major': 'N',\n",
       "      'name': 'persons',\n",
       "      'rank': '7',\n",
       "      'value': 'Ellington, Duke'},\n",
       "     {'is_major': 'N', 'name': 'subject', 'rank': '8', 'value': 'Music'},\n",
       "     {'is_major': 'N', 'name': 'subject', 'rank': '9', 'value': 'Jazz'},\n",
       "     {'is_major': 'N',\n",
       "      'name': 'subject',\n",
       "      'rank': '10',\n",
       "      'value': 'United States Politics and Government'}],\n",
       "    'lead_paragraph': 'Remembering Manhattan’s role as the nation’s first capital, paying tribute to an unsung composer and enjoying bird’s-eye views of the skyline.',\n",
       "    'multimedia': [{'height': 126,\n",
       "      'legacy': {'wide': 'images/2016/02/07/nyregion/07BOOKSHELF/07BOOKSHELF-thumbWide.jpg',\n",
       "       'wideheight': '126',\n",
       "       'widewidth': '190'},\n",
       "      'subtype': 'wide',\n",
       "      'type': 'image',\n",
       "      'url': 'images/2016/02/07/nyregion/07BOOKSHELF/07BOOKSHELF-thumbWide.jpg',\n",
       "      'width': 190},\n",
       "     {'height': 344,\n",
       "      'legacy': {'xlarge': 'images/2016/02/07/nyregion/07BOOKSHELF/07BOOKSHELF-articleLarge.jpg',\n",
       "       'xlargeheight': '344',\n",
       "       'xlargewidth': '600'},\n",
       "      'subtype': 'xlarge',\n",
       "      'type': 'image',\n",
       "      'url': 'images/2016/02/07/nyregion/07BOOKSHELF/07BOOKSHELF-articleLarge.jpg',\n",
       "      'width': 600},\n",
       "     {'height': 75,\n",
       "      'legacy': {'thumbnail': 'images/2016/02/07/nyregion/07BOOKSHELF/07BOOKSHELF-thumbStandard.jpg',\n",
       "       'thumbnailheight': '75',\n",
       "       'thumbnailwidth': '75'},\n",
       "      'subtype': 'thumbnail',\n",
       "      'type': 'image',\n",
       "      'url': 'images/2016/02/07/nyregion/07BOOKSHELF/07BOOKSHELF-thumbStandard.jpg',\n",
       "      'width': 75}],\n",
       "    'news_desk': 'Metropolitan',\n",
       "    'print_page': '3',\n",
       "    'pub_date': '2016-02-07T00:00:00Z',\n",
       "    'section_name': 'N.Y. / Region',\n",
       "    'slideshow_credits': None,\n",
       "    'snippet': 'Remembering Manhattan’s role as the nation’s first capital, paying tribute to an unsung composer and enjoying bird’s-eye views of the skyline.',\n",
       "    'source': 'The New York Times',\n",
       "    'subsection_name': None,\n",
       "    'type_of_material': 'News',\n",
       "    'web_url': 'http://www.nytimes.com/2016/02/07/nyregion/city-history-and-vantages-often-overlooked.html',\n",
       "    'word_count': '533'},\n",
       "   {'_id': '545528c538f0d84a08fb1b8c',\n",
       "    'abstract': None,\n",
       "    'blog': [],\n",
       "    'byline': {'original': 'By JOHN ELIGON',\n",
       "     'person': [{'firstname': 'John',\n",
       "       'lastname': 'ELIGON',\n",
       "       'organization': '',\n",
       "       'rank': 1,\n",
       "       'role': 'reported'}]},\n",
       "    'document_type': 'article',\n",
       "    'headline': {'main': 'Living to 100, and Looking Back on a Legacy of New York Jazz',\n",
       "     'print_headline': 'Living to 100, and Looking Back on a Legacy of Jazz'},\n",
       "    'keywords': [{'is_major': 'N',\n",
       "      'name': 'persons',\n",
       "      'rank': '2',\n",
       "      'value': 'Ellington, Duke'},\n",
       "     {'is_major': 'N', 'name': 'subject', 'rank': '3', 'value': 'Jazz'},\n",
       "     {'is_major': 'N', 'name': 'subject', 'rank': '4', 'value': 'Music'},\n",
       "     {'is_major': 'N', 'name': 'subject', 'rank': '5', 'value': 'Birthdays'}],\n",
       "    'lead_paragraph': 'Lawrence Lucie is the last living person to have performed with Duke Ellington at New York’s legendary Cotton Club.',\n",
       "    'multimedia': [{'height': 400,\n",
       "      'legacy': {'xlarge': 'images/2007/12/19/nyregion/19musician.pop.jpg',\n",
       "       'xlargeheight': '400',\n",
       "       'xlargewidth': '600'},\n",
       "      'subtype': 'xlarge',\n",
       "      'type': 'image',\n",
       "      'url': 'images/2007/12/19/nyregion/19musician.pop.jpg',\n",
       "      'width': 600},\n",
       "     {'height': 75,\n",
       "      'legacy': {'thumbnail': 'images/2007/12/19/nyregion/19musician.75.jpg',\n",
       "       'thumbnailheight': '75',\n",
       "       'thumbnailwidth': '75'},\n",
       "      'subtype': 'thumbnail',\n",
       "      'type': 'image',\n",
       "      'url': 'images/2007/12/19/nyregion/19musician.75.jpg',\n",
       "      'width': 75}],\n",
       "    'news_desk': 'Metro',\n",
       "    'print_page': '6',\n",
       "    'pub_date': '2007-12-19T00:00:00Z',\n",
       "    'section_name': 'N.Y. / Region',\n",
       "    'slideshow_credits': None,\n",
       "    'snippet': 'Lawrence Lucie is the last living person to have performed with Duke Ellington at New York’s legendary Cotton Club.',\n",
       "    'source': 'The New York Times',\n",
       "    'subsection_name': None,\n",
       "    'type_of_material': 'News',\n",
       "    'web_url': 'http://www.nytimes.com/2007/12/19/nyregion/19musician.html',\n",
       "    'word_count': '712'},\n",
       "   {'_id': '5333318c38f0d87e2de0488b',\n",
       "    'abstract': None,\n",
       "    'blog': [],\n",
       "    'byline': {'contributor': '',\n",
       "     'original': 'By VIVIEN SCHWEITZER',\n",
       "     'person': [{'firstname': 'Vivien',\n",
       "       'lastname': 'SCHWEITZER',\n",
       "       'organization': '',\n",
       "       'rank': 1,\n",
       "       'role': 'reported'}]},\n",
       "    'document_type': 'article',\n",
       "    'headline': {'content_kicker': 'Music Review',\n",
       "     'kicker': 'Music Review',\n",
       "     'main': 'Heavenly Voices Proclaim a Faith That Swings',\n",
       "     'print_headline': 'Heavenly Voices Proclaim a Faith That Swings',\n",
       "     'seo': 'Six Youth Choirs Sing From Ellington&#8217;s Sacred Concerts'},\n",
       "    'keywords': [{'is_major': 'N',\n",
       "      'name': 'persons',\n",
       "      'rank': '4',\n",
       "      'value': 'Ellington, Duke'},\n",
       "     {'is_major': 'N', 'name': 'subject', 'rank': '2', 'value': 'Jazz'},\n",
       "     {'is_major': 'N', 'name': 'subject', 'rank': '1', 'value': 'Music'},\n",
       "     {'is_major': 'N',\n",
       "      'name': 'organizations',\n",
       "      'rank': '3',\n",
       "      'value': 'Carnegie Hall'}],\n",
       "    'lead_paragraph': 'Singers from New York City high schools collaborated with the Jazz at Lincoln Center Youth Orchestra to perform works by Duke Ellington at Carnegie Hall.',\n",
       "    'multimedia': [],\n",
       "    'news_desk': 'Culture',\n",
       "    'print_page': None,\n",
       "    'pub_date': '2014-03-27T00:00:00Z',\n",
       "    'section_name': 'Arts',\n",
       "    'slideshow_credits': None,\n",
       "    'snippet': 'Singers from New York City high schools collaborated with the Jazz at Lincoln Center Youth Orchestra to perform works by Duke Ellington at Carnegie Hall.',\n",
       "    'source': 'The New York Times',\n",
       "    'subsection_name': 'Music',\n",
       "    'type_of_material': 'Review',\n",
       "    'web_url': 'http://www.nytimes.com/2014/03/27/arts/music/six-youth-choirs-sing-from-ellingtons-sacred-concerts.html',\n",
       "    'word_count': '412'},\n",
       "   {'_id': '52b0c80038f0d807ba62ef8a',\n",
       "    'abstract': 'Brian Seibert reviews Alvin Ailey American Dance Theater production at City Center.',\n",
       "    'blog': [],\n",
       "    'byline': {'contributor': '',\n",
       "     'original': 'By BRIAN SEIBERT',\n",
       "     'person': [{'firstname': 'Brian',\n",
       "       'lastname': 'SEIBERT',\n",
       "       'organization': '',\n",
       "       'rank': 1,\n",
       "       'role': 'reported'}]},\n",
       "    'document_type': 'article',\n",
       "    'headline': {'content_kicker': 'Dance Review',\n",
       "     'kicker': 'Dance Review',\n",
       "     'main': 'Finding Jazz and Ballet Bouncing in the Night',\n",
       "     'print_headline': 'Finding Jazz And Ballet Bouncing In the Night',\n",
       "     'seo': 'Ailey Program Moves to Duke Ellington Works'},\n",
       "    'keywords': [{'is_major': 'Y',\n",
       "      'name': 'subject',\n",
       "      'rank': '3',\n",
       "      'value': 'Dancing'},\n",
       "     {'is_major': 'Y',\n",
       "      'name': 'organizations',\n",
       "      'rank': '1',\n",
       "      'value': 'Ailey, Alvin, American Dance Theater'},\n",
       "     {'is_major': 'N',\n",
       "      'name': 'organizations',\n",
       "      'rank': '2',\n",
       "      'value': 'New York City Center Theater'},\n",
       "     {'is_major': 'N',\n",
       "      'name': 'persons',\n",
       "      'rank': '4',\n",
       "      'value': 'Ellington, Duke'}],\n",
       "    'lead_paragraph': 'An Alvin Ailey program at City Center that was mostly danced to Duke Ellington music found plenty of ballet amid jazzy bouncing hips.',\n",
       "    'multimedia': [{'height': 126,\n",
       "      'legacy': {'wide': 'images/2013/12/18/arts/18ELLINGTON/18ELLINGTON-thumbWide.jpg',\n",
       "       'wideheight': '126',\n",
       "       'widewidth': '190'},\n",
       "      'subtype': 'wide',\n",
       "      'type': 'image',\n",
       "      'url': 'images/2013/12/18/arts/18ELLINGTON/18ELLINGTON-thumbWide.jpg',\n",
       "      'width': 190},\n",
       "     {'height': 359,\n",
       "      'legacy': {'xlarge': 'images/2013/12/18/arts/18ELLINGTON/18ELLINGTON-articleLarge.jpg',\n",
       "       'xlargeheight': '359',\n",
       "       'xlargewidth': '600'},\n",
       "      'subtype': 'xlarge',\n",
       "      'type': 'image',\n",
       "      'url': 'images/2013/12/18/arts/18ELLINGTON/18ELLINGTON-articleLarge.jpg',\n",
       "      'width': 600},\n",
       "     {'height': 75,\n",
       "      'legacy': {'thumbnail': 'images/2013/12/18/arts/18ELLINGTON/18ELLINGTON-thumbStandard.jpg',\n",
       "       'thumbnailheight': '75',\n",
       "       'thumbnailwidth': '75'},\n",
       "      'subtype': 'thumbnail',\n",
       "      'type': 'image',\n",
       "      'url': 'images/2013/12/18/arts/18ELLINGTON/18ELLINGTON-thumbStandard.jpg',\n",
       "      'width': 75}],\n",
       "    'news_desk': 'Culture',\n",
       "    'print_page': '5',\n",
       "    'pub_date': '2013-12-18T00:00:00Z',\n",
       "    'section_name': 'Arts',\n",
       "    'slideshow_credits': None,\n",
       "    'snippet': 'An Alvin Ailey program at City Center that was mostly danced to Duke Ellington music found plenty of ballet amid jazzy bouncing hips.',\n",
       "    'source': 'The New York Times',\n",
       "    'subsection_name': 'Dance',\n",
       "    'type_of_material': 'Review',\n",
       "    'web_url': 'http://www.nytimes.com/2013/12/18/arts/dance/ailey-program-moves-to-duke-ellington-works.html',\n",
       "    'word_count': '540'},\n",
       "   {'_id': '54716b5038f0d847c5e42d02',\n",
       "    'abstract': None,\n",
       "    'blog': [],\n",
       "    'byline': {'organization': 'THE ASSOCIATED PRESS',\n",
       "     'original': 'By THE ASSOCIATED PRESS',\n",
       "     'person': []},\n",
       "    'document_type': 'article',\n",
       "    'headline': {'content_kicker': 'National Briefing | Numismatics',\n",
       "     'main': 'Ellington Quarter Released',\n",
       "     'print_headline': 'Ellington Quarter Released'},\n",
       "    'keywords': [{'is_major': 'N',\n",
       "      'name': 'persons',\n",
       "      'rank': '1',\n",
       "      'value': 'Ellington, Duke'},\n",
       "     {'is_major': 'N', 'name': 'subject', 'rank': '2', 'value': 'Currency'},\n",
       "     {'is_major': 'N', 'name': 'subject', 'rank': '3', 'value': 'Blacks'}],\n",
       "    'lead_paragraph': 'Duke Ellington is the first black American to be prominently featured on a United States coin in circulation with the release of a quarter honoring the District of Columbia.',\n",
       "    'multimedia': [],\n",
       "    'news_desk': 'National',\n",
       "    'print_page': '15',\n",
       "    'pub_date': '2009-02-25T00:00:00Z',\n",
       "    'section_name': 'U.S.',\n",
       "    'slideshow_credits': None,\n",
       "    'snippet': 'Duke Ellington is the first black American to be prominently featured on a United States coin in circulation with the release of a quarter honoring the District of Columbia.',\n",
       "    'source': 'The New York Times',\n",
       "    'subsection_name': None,\n",
       "    'type_of_material': 'Brief',\n",
       "    'web_url': 'http://www.nytimes.com/2009/02/25/us/25brfs-ELLINGTONQUA_BRF.html',\n",
       "    'word_count': '112'},\n",
       "   {'_id': '500469531c22dfde670b070f',\n",
       "    'abstract': 'The Encores! song-and-dance revue will return to City Center this fall.',\n",
       "    'blog': [],\n",
       "    'byline': {'original': 'By ERIK PIEPENBURG',\n",
       "     'person': [{'firstname': 'Erik',\n",
       "       'lastname': 'PIEPENBURG',\n",
       "       'organization': '',\n",
       "       'rank': 1,\n",
       "       'role': 'reported'}]},\n",
       "    'document_type': 'blogpost',\n",
       "    'headline': {'kicker': 'ArtsBeat',\n",
       "     'main': \"A Return for 'Cotton Club Parade' \",\n",
       "     'print_headline': '‘Cotton Club’ Redux'},\n",
       "    'keywords': [{'name': 'creative_works',\n",
       "      'rank': '1',\n",
       "      'value': 'Cotton Club Parade (Play)'},\n",
       "     {'name': 'persons', 'rank': '1', 'value': 'Ellington, Duke'},\n",
       "     {'name': 'subject',\n",
       "      'rank': '1',\n",
       "      'value': 'Encores! Great American Musicals in Concert (Series)'},\n",
       "     {'name': 'subject', 'rank': '2', 'value': 'Music'}],\n",
       "    'lead_paragraph': None,\n",
       "    'multimedia': [],\n",
       "    'news_desk': None,\n",
       "    'print_page': None,\n",
       "    'pub_date': '2012-07-16T15:17:34Z',\n",
       "    'section_name': 'Arts',\n",
       "    'slideshow_credits': None,\n",
       "    'snippet': 'The Encores! song-and-dance revue will return to City Center this fall.',\n",
       "    'source': 'The New York Times',\n",
       "    'subsection_name': None,\n",
       "    'type_of_material': 'Blog',\n",
       "    'web_url': 'http://artsbeat.blogs.nytimes.com/2012/07/16/a-return-for-cotton-club-parade/',\n",
       "    'word_count': '192'},\n",
       "   {'_id': '5416f29a38f0d85fde323fe8',\n",
       "    'abstract': None,\n",
       "    'blog': [],\n",
       "    'byline': {'contributor': '',\n",
       "     'original': 'By PETER KEEPNEWS',\n",
       "     'person': [{'firstname': 'Peter',\n",
       "       'lastname': 'KEEPNEWS',\n",
       "       'organization': '',\n",
       "       'rank': 1,\n",
       "       'role': 'reported'}]},\n",
       "    'document_type': 'article',\n",
       "    'headline': {'main': 'Culture’s Ambassador',\n",
       "     'print_headline': 'Culture’s Ambassador',\n",
       "     'seo': 'Book Review - Duke Ellington’s America - By Harvey G. Cohen'},\n",
       "    'keywords': [{'is_major': 'N',\n",
       "      'name': 'subject',\n",
       "      'rank': '1',\n",
       "      'value': 'Jazz'},\n",
       "     {'is_major': 'N',\n",
       "      'name': 'persons',\n",
       "      'rank': '2',\n",
       "      'value': 'Ellington, Duke'},\n",
       "     {'is_major': 'N',\n",
       "      'name': 'subject',\n",
       "      'rank': '3',\n",
       "      'value': 'Books and Literature'},\n",
       "     {'is_major': 'N', 'name': 'subject', 'rank': '4', 'value': 'Music'},\n",
       "     {'is_major': 'N', 'name': 'subject', 'rank': '5', 'value': 'Race'},\n",
       "     {'is_major': 'N', 'name': 'subject', 'rank': '6', 'value': 'Blacks'},\n",
       "     {'is_major': 'N',\n",
       "      'name': 'subject',\n",
       "      'rank': '7',\n",
       "      'value': 'Civil Rights and Liberties'}],\n",
       "    'lead_paragraph': 'A look at the social and political significance of Duke Ellington.',\n",
       "    'multimedia': [{'height': 75,\n",
       "      'legacy': {'thumbnail': 'images/2010/06/06/books/review/Keepnews-t_CA0/Keepnews-t_CA0-thumbStandard.jpg',\n",
       "       'thumbnailheight': '75',\n",
       "       'thumbnailwidth': '75'},\n",
       "      'subtype': 'thumbnail',\n",
       "      'type': 'image',\n",
       "      'url': 'images/2010/06/06/books/review/Keepnews-t_CA0/Keepnews-t_CA0-thumbStandard.jpg',\n",
       "      'width': 75}],\n",
       "    'news_desk': 'BookReview',\n",
       "    'print_page': '29',\n",
       "    'pub_date': '2010-06-06T00:00:00Z',\n",
       "    'section_name': 'Books',\n",
       "    'slideshow_credits': None,\n",
       "    'snippet': 'A look at the social and political significance of Duke Ellington.',\n",
       "    'source': 'The New York Times',\n",
       "    'subsection_name': 'Sunday Book Review',\n",
       "    'type_of_material': 'Review',\n",
       "    'web_url': 'http://www.nytimes.com/2010/06/06/books/review/Keepnews-t.html',\n",
       "    'word_count': '711'},\n",
       "   {'_id': '5475aae438f0d8119c6afe04',\n",
       "    'abstract': None,\n",
       "    'blog': [],\n",
       "    'byline': {'contributor': '',\n",
       "     'original': 'By ALASTAIR MACAULAY',\n",
       "     'person': [{'firstname': 'Alastair',\n",
       "       'lastname': 'MACAULAY',\n",
       "       'organization': '',\n",
       "       'rank': 1,\n",
       "       'role': 'reported'}]},\n",
       "    'document_type': 'article',\n",
       "    'headline': {'content_kicker': 'Dance Review | Alvin Ailey American Dance Theater',\n",
       "     'kicker': 'Dance Review | Alvin Ailey American Dance Theater',\n",
       "     'main': 'Experiencing America, With Foot and Instrument',\n",
       "     'print_headline': 'Experiencing America, With Foot and Instrument',\n",
       "     'seo': 'Experiencing America, With Foot and Instrument at City Center'},\n",
       "    'keywords': [{'is_major': 'N',\n",
       "      'name': 'subject',\n",
       "      'rank': '1',\n",
       "      'value': 'Dancing'},\n",
       "     {'is_major': 'N',\n",
       "      'name': 'organizations',\n",
       "      'rank': '2',\n",
       "      'value': 'Ailey, Alvin, American Dance Theater'},\n",
       "     {'is_major': 'N',\n",
       "      'name': 'persons',\n",
       "      'rank': '3',\n",
       "      'value': 'Ellington, Duke'}],\n",
       "    'lead_paragraph': 'The climax of the Alvin Ailey American Dance Theater’s 50th-anniversary season has arrived in the middle of its run, with two programs whose first two-thirds are to music by Duke Ellington.',\n",
       "    'multimedia': [{'height': 281,\n",
       "      'legacy': {'xlarge': 'images/2008/12/20/arts/dance/jazz.span.jpg',\n",
       "       'xlargeheight': '281',\n",
       "       'xlargewidth': '600'},\n",
       "      'subtype': 'xlarge',\n",
       "      'type': 'image',\n",
       "      'url': 'images/2008/12/20/arts/dance/jazz.span.jpg',\n",
       "      'width': 600},\n",
       "     {'height': 75,\n",
       "      'legacy': {'thumbnail': 'images/2008/12/20/arts/dance/jazz.75.jpg',\n",
       "       'thumbnailheight': '75',\n",
       "       'thumbnailwidth': '75'},\n",
       "      'subtype': 'thumbnail',\n",
       "      'type': 'image',\n",
       "      'url': 'images/2008/12/20/arts/dance/jazz.75.jpg',\n",
       "      'width': 75}],\n",
       "    'news_desk': 'Culture',\n",
       "    'print_page': '1',\n",
       "    'pub_date': '2008-12-20T00:00:00Z',\n",
       "    'section_name': 'Arts',\n",
       "    'slideshow_credits': None,\n",
       "    'snippet': 'The climax of the Alvin Ailey American Dance Theater’s 50th-anniversary season has arrived in the middle of its run, with two programs whose first two-thirds are to music by Duke Ellington.',\n",
       "    'source': 'The New York Times',\n",
       "    'subsection_name': 'Dance',\n",
       "    'type_of_material': 'Review',\n",
       "    'web_url': 'http://www.nytimes.com/2008/12/20/arts/dance/20jazz.html',\n",
       "    'word_count': '839'},\n",
       "   {'_id': '54850e8b38f0d84e18ddfd1e',\n",
       "    'abstract': None,\n",
       "    'blog': [],\n",
       "    'byline': {'original': 'By WILLIAM NEUMAN',\n",
       "     'person': [{'firstname': 'William',\n",
       "       'lastname': 'NEUMAN',\n",
       "       'organization': '',\n",
       "       'rank': 1,\n",
       "       'role': 'reported'}]},\n",
       "    'document_type': 'article',\n",
       "    'headline': {'main': 'Riding the Length of Manhattan, on Seats of Rattan',\n",
       "     'print_headline': 'Riding the Length of Manhattan, on Seats of Rattan'},\n",
       "    'keywords': [{'is_major': 'N',\n",
       "      'name': 'subject',\n",
       "      'rank': '1',\n",
       "      'value': 'Subways'},\n",
       "     {'is_major': 'N',\n",
       "      'name': 'organizations',\n",
       "      'rank': '2',\n",
       "      'value': 'Metropolitan Transportation Authority'},\n",
       "     {'is_major': 'N',\n",
       "      'name': 'subject',\n",
       "      'rank': '3',\n",
       "      'value': 'Transit Systems'},\n",
       "     {'is_major': 'N', 'name': 'subject', 'rank': '4', 'value': 'Jazz'},\n",
       "     {'is_major': 'N', 'name': 'subject', 'rank': '5', 'value': 'Music'},\n",
       "     {'is_major': 'N',\n",
       "      'name': 'persons',\n",
       "      'rank': '6',\n",
       "      'value': 'Ellington, Duke'},\n",
       "     {'is_major': 'N',\n",
       "      'name': 'glocations',\n",
       "      'rank': '7',\n",
       "      'value': 'Manhattan (NYC)'},\n",
       "     {'is_major': 'N',\n",
       "      'name': 'glocations',\n",
       "      'rank': '8',\n",
       "      'value': 'Harlem (NYC)'}],\n",
       "    'lead_paragraph': 'In celebration of the 75th birthday of the A train, the Metropolitan Transportation Authority strung together a train of pre-World War II subway cars.',\n",
       "    'multimedia': [{'height': 75,\n",
       "      'legacy': {'thumbnail': 'images/2007/09/11/nyregion/11atrain-75.jpg',\n",
       "       'thumbnailheight': '75',\n",
       "       'thumbnailwidth': '75'},\n",
       "      'subtype': 'thumbnail',\n",
       "      'type': 'image',\n",
       "      'url': 'images/2007/09/11/nyregion/11atrain-75.jpg',\n",
       "      'width': 75}],\n",
       "    'news_desk': 'Metro',\n",
       "    'print_page': '3',\n",
       "    'pub_date': '2007-09-11T00:00:00Z',\n",
       "    'section_name': 'N.Y. / Region',\n",
       "    'slideshow_credits': None,\n",
       "    'snippet': 'In celebration of the 75th birthday of the A train, the Metropolitan Transportation Authority strung together a train of pre-World War II subway cars.',\n",
       "    'source': 'The New York Times',\n",
       "    'subsection_name': None,\n",
       "    'type_of_material': 'News',\n",
       "    'web_url': 'http://www.nytimes.com/2007/09/11/nyregion/11atrain.html',\n",
       "    'word_count': '637'},\n",
       "   {'_id': '540d536938f0d85bf2515687',\n",
       "    'abstract': None,\n",
       "    'blog': [],\n",
       "    'byline': {'contributor': '',\n",
       "     'original': 'Compiled by RACHEL LEE HARRIS',\n",
       "     'person': [{'firstname': 'Rachel',\n",
       "       'lastname': 'HARRIS',\n",
       "       'middlename': 'Lee',\n",
       "       'organization': '',\n",
       "       'rank': 1,\n",
       "       'role': 'reported'}]},\n",
       "    'document_type': 'article',\n",
       "    'headline': {'content_kicker': 'Arts, Briefly',\n",
       "     'main': 'New Series to Honor Duke Ellington',\n",
       "     'print_headline': 'New Series to Honor Duke Ellington'},\n",
       "    'keywords': [{'is_major': 'N',\n",
       "      'name': 'subject',\n",
       "      'rank': '1',\n",
       "      'value': 'Jazz'},\n",
       "     {'is_major': 'N',\n",
       "      'name': 'persons',\n",
       "      'rank': '2',\n",
       "      'value': 'Ellington, Duke'}],\n",
       "    'lead_paragraph': 'This year City Center’s Encores! series and Jazz at Lincoln Center will present a tribute to Ellington’s performances at the Cotton Club.',\n",
       "    'multimedia': [],\n",
       "    'news_desk': 'Culture',\n",
       "    'print_page': '2',\n",
       "    'pub_date': '2011-05-02T00:00:00Z',\n",
       "    'section_name': 'Arts',\n",
       "    'slideshow_credits': None,\n",
       "    'snippet': 'This year City Center’s Encores! series and Jazz at Lincoln Center will present a tribute to Ellington’s performances at the Cotton Club.',\n",
       "    'source': 'The New York Times',\n",
       "    'subsection_name': 'Music',\n",
       "    'type_of_material': 'Brief',\n",
       "    'web_url': 'http://www.nytimes.com/2011/05/02/arts/music/new-series-to-honor-duke-ellington.html',\n",
       "    'word_count': '131'}],\n",
       "  'meta': {'hits': 1172, 'offset': 0, 'time': 321}},\n",
       " 'status': 'OK'}"
      ]
     },
     "execution_count": 8,
     "metadata": {},
     "output_type": "execute_result"
    }
   ],
   "source": [
    "# Convert JSON response to a dictionary\n",
    "data=json.loads(response_text)\n",
    "data"
   ]
  },
  {
   "cell_type": "markdown",
   "metadata": {},
   "source": [
    "That looks intimidating! But it's really just a big dictionary. Let's see what keys we got in there."
   ]
  },
  {
   "cell_type": "code",
   "execution_count": 14,
   "metadata": {
    "collapsed": false
   },
   "outputs": [
    {
     "data": {
      "text/plain": [
       "dict_keys(['copyright', 'response', 'status'])"
      ]
     },
     "execution_count": 14,
     "metadata": {},
     "output_type": "execute_result"
    }
   ],
   "source": [
    "data.keys()"
   ]
  },
  {
   "cell_type": "code",
   "execution_count": 15,
   "metadata": {
    "collapsed": false
   },
   "outputs": [
    {
     "data": {
      "text/plain": [
       "'OK'"
      ]
     },
     "execution_count": 15,
     "metadata": {},
     "output_type": "execute_result"
    }
   ],
   "source": [
    "# this is boring\n",
    "data['status']"
   ]
  },
  {
   "cell_type": "code",
   "execution_count": 16,
   "metadata": {
    "collapsed": false
   },
   "outputs": [
    {
     "data": {
      "text/plain": [
       "'Copyright (c) 2013 The New York Times Company.  All Rights Reserved.'"
      ]
     },
     "execution_count": 16,
     "metadata": {},
     "output_type": "execute_result"
    }
   ],
   "source": [
    "# so is this\n",
    "data['copyright']"
   ]
  },
  {
   "cell_type": "code",
   "execution_count": 17,
   "metadata": {
    "collapsed": false
   },
   "outputs": [
    {
     "data": {
      "text/plain": [
       "{'docs': [{'_id': '56b5288a38f0d86b498f997d',\n",
       "   'abstract': 'Sam Roberts reviews books The First Congress: How James Madison, George Washington and a Group of Extraordinary Men Invented the Government by Fergus M Bordewich,  Strayhorn: An Illustrated Life edited by A Alyce Claerbaut and David Schlesinger and New York From Above by Evan Joseph. ',\n",
       "   'blog': [],\n",
       "   'byline': {'original': 'By SAM ROBERTS',\n",
       "    'person': [{'firstname': 'Sam',\n",
       "      'lastname': 'ROBERTS',\n",
       "      'organization': '',\n",
       "      'rank': 1,\n",
       "      'role': 'reported'}]},\n",
       "   'document_type': 'article',\n",
       "   'headline': {'content_kicker': 'Bookshelf',\n",
       "    'kicker': 'Bookshelf',\n",
       "    'main': 'City History, and Vantages, Often Overlooked',\n",
       "    'print_headline': 'A Congress, a Composer and a Skyline  '},\n",
       "   'keywords': [{'is_major': 'Y',\n",
       "     'name': 'subject',\n",
       "     'rank': '1',\n",
       "     'value': 'Books and Literature'},\n",
       "    {'is_major': 'Y',\n",
       "     'name': 'persons',\n",
       "     'rank': '2',\n",
       "     'value': 'Bordewich, Fergus M'},\n",
       "    {'is_major': 'N',\n",
       "     'name': 'persons',\n",
       "     'rank': '7',\n",
       "     'value': 'Ellington, Duke'},\n",
       "    {'is_major': 'N', 'name': 'subject', 'rank': '8', 'value': 'Music'},\n",
       "    {'is_major': 'N', 'name': 'subject', 'rank': '9', 'value': 'Jazz'},\n",
       "    {'is_major': 'N',\n",
       "     'name': 'subject',\n",
       "     'rank': '10',\n",
       "     'value': 'United States Politics and Government'}],\n",
       "   'lead_paragraph': 'Remembering Manhattan’s role as the nation’s first capital, paying tribute to an unsung composer and enjoying bird’s-eye views of the skyline.',\n",
       "   'multimedia': [{'height': 126,\n",
       "     'legacy': {'wide': 'images/2016/02/07/nyregion/07BOOKSHELF/07BOOKSHELF-thumbWide.jpg',\n",
       "      'wideheight': '126',\n",
       "      'widewidth': '190'},\n",
       "     'subtype': 'wide',\n",
       "     'type': 'image',\n",
       "     'url': 'images/2016/02/07/nyregion/07BOOKSHELF/07BOOKSHELF-thumbWide.jpg',\n",
       "     'width': 190},\n",
       "    {'height': 344,\n",
       "     'legacy': {'xlarge': 'images/2016/02/07/nyregion/07BOOKSHELF/07BOOKSHELF-articleLarge.jpg',\n",
       "      'xlargeheight': '344',\n",
       "      'xlargewidth': '600'},\n",
       "     'subtype': 'xlarge',\n",
       "     'type': 'image',\n",
       "     'url': 'images/2016/02/07/nyregion/07BOOKSHELF/07BOOKSHELF-articleLarge.jpg',\n",
       "     'width': 600},\n",
       "    {'height': 75,\n",
       "     'legacy': {'thumbnail': 'images/2016/02/07/nyregion/07BOOKSHELF/07BOOKSHELF-thumbStandard.jpg',\n",
       "      'thumbnailheight': '75',\n",
       "      'thumbnailwidth': '75'},\n",
       "     'subtype': 'thumbnail',\n",
       "     'type': 'image',\n",
       "     'url': 'images/2016/02/07/nyregion/07BOOKSHELF/07BOOKSHELF-thumbStandard.jpg',\n",
       "     'width': 75}],\n",
       "   'news_desk': 'Metropolitan',\n",
       "   'print_page': '3',\n",
       "   'pub_date': '2016-02-07T00:00:00Z',\n",
       "   'section_name': 'N.Y. / Region',\n",
       "   'slideshow_credits': None,\n",
       "   'snippet': 'Remembering Manhattan’s role as the nation’s first capital, paying tribute to an unsung composer and enjoying bird’s-eye views of the skyline.',\n",
       "   'source': 'The New York Times',\n",
       "   'subsection_name': None,\n",
       "   'type_of_material': 'News',\n",
       "   'web_url': 'http://www.nytimes.com/2016/02/07/nyregion/city-history-and-vantages-often-overlooked.html',\n",
       "   'word_count': '533'},\n",
       "  {'_id': '545528c538f0d84a08fb1b8c',\n",
       "   'abstract': None,\n",
       "   'blog': [],\n",
       "   'byline': {'original': 'By JOHN ELIGON',\n",
       "    'person': [{'firstname': 'John',\n",
       "      'lastname': 'ELIGON',\n",
       "      'organization': '',\n",
       "      'rank': 1,\n",
       "      'role': 'reported'}]},\n",
       "   'document_type': 'article',\n",
       "   'headline': {'main': 'Living to 100, and Looking Back on a Legacy of New York Jazz',\n",
       "    'print_headline': 'Living to 100, and Looking Back on a Legacy of Jazz'},\n",
       "   'keywords': [{'is_major': 'N',\n",
       "     'name': 'persons',\n",
       "     'rank': '2',\n",
       "     'value': 'Ellington, Duke'},\n",
       "    {'is_major': 'N', 'name': 'subject', 'rank': '3', 'value': 'Jazz'},\n",
       "    {'is_major': 'N', 'name': 'subject', 'rank': '4', 'value': 'Music'},\n",
       "    {'is_major': 'N', 'name': 'subject', 'rank': '5', 'value': 'Birthdays'}],\n",
       "   'lead_paragraph': 'Lawrence Lucie is the last living person to have performed with Duke Ellington at New York’s legendary Cotton Club.',\n",
       "   'multimedia': [{'height': 400,\n",
       "     'legacy': {'xlarge': 'images/2007/12/19/nyregion/19musician.pop.jpg',\n",
       "      'xlargeheight': '400',\n",
       "      'xlargewidth': '600'},\n",
       "     'subtype': 'xlarge',\n",
       "     'type': 'image',\n",
       "     'url': 'images/2007/12/19/nyregion/19musician.pop.jpg',\n",
       "     'width': 600},\n",
       "    {'height': 75,\n",
       "     'legacy': {'thumbnail': 'images/2007/12/19/nyregion/19musician.75.jpg',\n",
       "      'thumbnailheight': '75',\n",
       "      'thumbnailwidth': '75'},\n",
       "     'subtype': 'thumbnail',\n",
       "     'type': 'image',\n",
       "     'url': 'images/2007/12/19/nyregion/19musician.75.jpg',\n",
       "     'width': 75}],\n",
       "   'news_desk': 'Metro',\n",
       "   'print_page': '6',\n",
       "   'pub_date': '2007-12-19T00:00:00Z',\n",
       "   'section_name': 'N.Y. / Region',\n",
       "   'slideshow_credits': None,\n",
       "   'snippet': 'Lawrence Lucie is the last living person to have performed with Duke Ellington at New York’s legendary Cotton Club.',\n",
       "   'source': 'The New York Times',\n",
       "   'subsection_name': None,\n",
       "   'type_of_material': 'News',\n",
       "   'web_url': 'http://www.nytimes.com/2007/12/19/nyregion/19musician.html',\n",
       "   'word_count': '712'},\n",
       "  {'_id': '5333318c38f0d87e2de0488b',\n",
       "   'abstract': None,\n",
       "   'blog': [],\n",
       "   'byline': {'contributor': '',\n",
       "    'original': 'By VIVIEN SCHWEITZER',\n",
       "    'person': [{'firstname': 'Vivien',\n",
       "      'lastname': 'SCHWEITZER',\n",
       "      'organization': '',\n",
       "      'rank': 1,\n",
       "      'role': 'reported'}]},\n",
       "   'document_type': 'article',\n",
       "   'headline': {'content_kicker': 'Music Review',\n",
       "    'kicker': 'Music Review',\n",
       "    'main': 'Heavenly Voices Proclaim a Faith That Swings',\n",
       "    'print_headline': 'Heavenly Voices Proclaim a Faith That Swings',\n",
       "    'seo': 'Six Youth Choirs Sing From Ellington&#8217;s Sacred Concerts'},\n",
       "   'keywords': [{'is_major': 'N',\n",
       "     'name': 'persons',\n",
       "     'rank': '4',\n",
       "     'value': 'Ellington, Duke'},\n",
       "    {'is_major': 'N', 'name': 'subject', 'rank': '2', 'value': 'Jazz'},\n",
       "    {'is_major': 'N', 'name': 'subject', 'rank': '1', 'value': 'Music'},\n",
       "    {'is_major': 'N',\n",
       "     'name': 'organizations',\n",
       "     'rank': '3',\n",
       "     'value': 'Carnegie Hall'}],\n",
       "   'lead_paragraph': 'Singers from New York City high schools collaborated with the Jazz at Lincoln Center Youth Orchestra to perform works by Duke Ellington at Carnegie Hall.',\n",
       "   'multimedia': [],\n",
       "   'news_desk': 'Culture',\n",
       "   'print_page': None,\n",
       "   'pub_date': '2014-03-27T00:00:00Z',\n",
       "   'section_name': 'Arts',\n",
       "   'slideshow_credits': None,\n",
       "   'snippet': 'Singers from New York City high schools collaborated with the Jazz at Lincoln Center Youth Orchestra to perform works by Duke Ellington at Carnegie Hall.',\n",
       "   'source': 'The New York Times',\n",
       "   'subsection_name': 'Music',\n",
       "   'type_of_material': 'Review',\n",
       "   'web_url': 'http://www.nytimes.com/2014/03/27/arts/music/six-youth-choirs-sing-from-ellingtons-sacred-concerts.html',\n",
       "   'word_count': '412'},\n",
       "  {'_id': '52b0c80038f0d807ba62ef8a',\n",
       "   'abstract': 'Brian Seibert reviews Alvin Ailey American Dance Theater production at City Center.',\n",
       "   'blog': [],\n",
       "   'byline': {'contributor': '',\n",
       "    'original': 'By BRIAN SEIBERT',\n",
       "    'person': [{'firstname': 'Brian',\n",
       "      'lastname': 'SEIBERT',\n",
       "      'organization': '',\n",
       "      'rank': 1,\n",
       "      'role': 'reported'}]},\n",
       "   'document_type': 'article',\n",
       "   'headline': {'content_kicker': 'Dance Review',\n",
       "    'kicker': 'Dance Review',\n",
       "    'main': 'Finding Jazz and Ballet Bouncing in the Night',\n",
       "    'print_headline': 'Finding Jazz And Ballet Bouncing In the Night',\n",
       "    'seo': 'Ailey Program Moves to Duke Ellington Works'},\n",
       "   'keywords': [{'is_major': 'Y',\n",
       "     'name': 'subject',\n",
       "     'rank': '3',\n",
       "     'value': 'Dancing'},\n",
       "    {'is_major': 'Y',\n",
       "     'name': 'organizations',\n",
       "     'rank': '1',\n",
       "     'value': 'Ailey, Alvin, American Dance Theater'},\n",
       "    {'is_major': 'N',\n",
       "     'name': 'organizations',\n",
       "     'rank': '2',\n",
       "     'value': 'New York City Center Theater'},\n",
       "    {'is_major': 'N',\n",
       "     'name': 'persons',\n",
       "     'rank': '4',\n",
       "     'value': 'Ellington, Duke'}],\n",
       "   'lead_paragraph': 'An Alvin Ailey program at City Center that was mostly danced to Duke Ellington music found plenty of ballet amid jazzy bouncing hips.',\n",
       "   'multimedia': [{'height': 126,\n",
       "     'legacy': {'wide': 'images/2013/12/18/arts/18ELLINGTON/18ELLINGTON-thumbWide.jpg',\n",
       "      'wideheight': '126',\n",
       "      'widewidth': '190'},\n",
       "     'subtype': 'wide',\n",
       "     'type': 'image',\n",
       "     'url': 'images/2013/12/18/arts/18ELLINGTON/18ELLINGTON-thumbWide.jpg',\n",
       "     'width': 190},\n",
       "    {'height': 359,\n",
       "     'legacy': {'xlarge': 'images/2013/12/18/arts/18ELLINGTON/18ELLINGTON-articleLarge.jpg',\n",
       "      'xlargeheight': '359',\n",
       "      'xlargewidth': '600'},\n",
       "     'subtype': 'xlarge',\n",
       "     'type': 'image',\n",
       "     'url': 'images/2013/12/18/arts/18ELLINGTON/18ELLINGTON-articleLarge.jpg',\n",
       "     'width': 600},\n",
       "    {'height': 75,\n",
       "     'legacy': {'thumbnail': 'images/2013/12/18/arts/18ELLINGTON/18ELLINGTON-thumbStandard.jpg',\n",
       "      'thumbnailheight': '75',\n",
       "      'thumbnailwidth': '75'},\n",
       "     'subtype': 'thumbnail',\n",
       "     'type': 'image',\n",
       "     'url': 'images/2013/12/18/arts/18ELLINGTON/18ELLINGTON-thumbStandard.jpg',\n",
       "     'width': 75}],\n",
       "   'news_desk': 'Culture',\n",
       "   'print_page': '5',\n",
       "   'pub_date': '2013-12-18T00:00:00Z',\n",
       "   'section_name': 'Arts',\n",
       "   'slideshow_credits': None,\n",
       "   'snippet': 'An Alvin Ailey program at City Center that was mostly danced to Duke Ellington music found plenty of ballet amid jazzy bouncing hips.',\n",
       "   'source': 'The New York Times',\n",
       "   'subsection_name': 'Dance',\n",
       "   'type_of_material': 'Review',\n",
       "   'web_url': 'http://www.nytimes.com/2013/12/18/arts/dance/ailey-program-moves-to-duke-ellington-works.html',\n",
       "   'word_count': '540'},\n",
       "  {'_id': '54716b5038f0d847c5e42d02',\n",
       "   'abstract': None,\n",
       "   'blog': [],\n",
       "   'byline': {'organization': 'THE ASSOCIATED PRESS',\n",
       "    'original': 'By THE ASSOCIATED PRESS',\n",
       "    'person': []},\n",
       "   'document_type': 'article',\n",
       "   'headline': {'content_kicker': 'National Briefing | Numismatics',\n",
       "    'main': 'Ellington Quarter Released',\n",
       "    'print_headline': 'Ellington Quarter Released'},\n",
       "   'keywords': [{'is_major': 'N',\n",
       "     'name': 'persons',\n",
       "     'rank': '1',\n",
       "     'value': 'Ellington, Duke'},\n",
       "    {'is_major': 'N', 'name': 'subject', 'rank': '2', 'value': 'Currency'},\n",
       "    {'is_major': 'N', 'name': 'subject', 'rank': '3', 'value': 'Blacks'}],\n",
       "   'lead_paragraph': 'Duke Ellington is the first black American to be prominently featured on a United States coin in circulation with the release of a quarter honoring the District of Columbia.',\n",
       "   'multimedia': [],\n",
       "   'news_desk': 'National',\n",
       "   'print_page': '15',\n",
       "   'pub_date': '2009-02-25T00:00:00Z',\n",
       "   'section_name': 'U.S.',\n",
       "   'slideshow_credits': None,\n",
       "   'snippet': 'Duke Ellington is the first black American to be prominently featured on a United States coin in circulation with the release of a quarter honoring the District of Columbia.',\n",
       "   'source': 'The New York Times',\n",
       "   'subsection_name': None,\n",
       "   'type_of_material': 'Brief',\n",
       "   'web_url': 'http://www.nytimes.com/2009/02/25/us/25brfs-ELLINGTONQUA_BRF.html',\n",
       "   'word_count': '112'},\n",
       "  {'_id': '500469531c22dfde670b070f',\n",
       "   'abstract': 'The Encores! song-and-dance revue will return to City Center this fall.',\n",
       "   'blog': [],\n",
       "   'byline': {'original': 'By ERIK PIEPENBURG',\n",
       "    'person': [{'firstname': 'Erik',\n",
       "      'lastname': 'PIEPENBURG',\n",
       "      'organization': '',\n",
       "      'rank': 1,\n",
       "      'role': 'reported'}]},\n",
       "   'document_type': 'blogpost',\n",
       "   'headline': {'kicker': 'ArtsBeat',\n",
       "    'main': \"A Return for 'Cotton Club Parade' \",\n",
       "    'print_headline': '‘Cotton Club’ Redux'},\n",
       "   'keywords': [{'name': 'creative_works',\n",
       "     'rank': '1',\n",
       "     'value': 'Cotton Club Parade (Play)'},\n",
       "    {'name': 'persons', 'rank': '1', 'value': 'Ellington, Duke'},\n",
       "    {'name': 'subject',\n",
       "     'rank': '1',\n",
       "     'value': 'Encores! Great American Musicals in Concert (Series)'},\n",
       "    {'name': 'subject', 'rank': '2', 'value': 'Music'}],\n",
       "   'lead_paragraph': None,\n",
       "   'multimedia': [],\n",
       "   'news_desk': None,\n",
       "   'print_page': None,\n",
       "   'pub_date': '2012-07-16T15:17:34Z',\n",
       "   'section_name': 'Arts',\n",
       "   'slideshow_credits': None,\n",
       "   'snippet': 'The Encores! song-and-dance revue will return to City Center this fall.',\n",
       "   'source': 'The New York Times',\n",
       "   'subsection_name': None,\n",
       "   'type_of_material': 'Blog',\n",
       "   'web_url': 'http://artsbeat.blogs.nytimes.com/2012/07/16/a-return-for-cotton-club-parade/',\n",
       "   'word_count': '192'},\n",
       "  {'_id': '5416f29a38f0d85fde323fe8',\n",
       "   'abstract': None,\n",
       "   'blog': [],\n",
       "   'byline': {'contributor': '',\n",
       "    'original': 'By PETER KEEPNEWS',\n",
       "    'person': [{'firstname': 'Peter',\n",
       "      'lastname': 'KEEPNEWS',\n",
       "      'organization': '',\n",
       "      'rank': 1,\n",
       "      'role': 'reported'}]},\n",
       "   'document_type': 'article',\n",
       "   'headline': {'main': 'Culture’s Ambassador',\n",
       "    'print_headline': 'Culture’s Ambassador',\n",
       "    'seo': 'Book Review - Duke Ellington’s America - By Harvey G. Cohen'},\n",
       "   'keywords': [{'is_major': 'N',\n",
       "     'name': 'subject',\n",
       "     'rank': '1',\n",
       "     'value': 'Jazz'},\n",
       "    {'is_major': 'N',\n",
       "     'name': 'persons',\n",
       "     'rank': '2',\n",
       "     'value': 'Ellington, Duke'},\n",
       "    {'is_major': 'N',\n",
       "     'name': 'subject',\n",
       "     'rank': '3',\n",
       "     'value': 'Books and Literature'},\n",
       "    {'is_major': 'N', 'name': 'subject', 'rank': '4', 'value': 'Music'},\n",
       "    {'is_major': 'N', 'name': 'subject', 'rank': '5', 'value': 'Race'},\n",
       "    {'is_major': 'N', 'name': 'subject', 'rank': '6', 'value': 'Blacks'},\n",
       "    {'is_major': 'N',\n",
       "     'name': 'subject',\n",
       "     'rank': '7',\n",
       "     'value': 'Civil Rights and Liberties'}],\n",
       "   'lead_paragraph': 'A look at the social and political significance of Duke Ellington.',\n",
       "   'multimedia': [{'height': 75,\n",
       "     'legacy': {'thumbnail': 'images/2010/06/06/books/review/Keepnews-t_CA0/Keepnews-t_CA0-thumbStandard.jpg',\n",
       "      'thumbnailheight': '75',\n",
       "      'thumbnailwidth': '75'},\n",
       "     'subtype': 'thumbnail',\n",
       "     'type': 'image',\n",
       "     'url': 'images/2010/06/06/books/review/Keepnews-t_CA0/Keepnews-t_CA0-thumbStandard.jpg',\n",
       "     'width': 75}],\n",
       "   'news_desk': 'BookReview',\n",
       "   'print_page': '29',\n",
       "   'pub_date': '2010-06-06T00:00:00Z',\n",
       "   'section_name': 'Books',\n",
       "   'slideshow_credits': None,\n",
       "   'snippet': 'A look at the social and political significance of Duke Ellington.',\n",
       "   'source': 'The New York Times',\n",
       "   'subsection_name': 'Sunday Book Review',\n",
       "   'type_of_material': 'Review',\n",
       "   'web_url': 'http://www.nytimes.com/2010/06/06/books/review/Keepnews-t.html',\n",
       "   'word_count': '711'},\n",
       "  {'_id': '5475aae438f0d8119c6afe04',\n",
       "   'abstract': None,\n",
       "   'blog': [],\n",
       "   'byline': {'contributor': '',\n",
       "    'original': 'By ALASTAIR MACAULAY',\n",
       "    'person': [{'firstname': 'Alastair',\n",
       "      'lastname': 'MACAULAY',\n",
       "      'organization': '',\n",
       "      'rank': 1,\n",
       "      'role': 'reported'}]},\n",
       "   'document_type': 'article',\n",
       "   'headline': {'content_kicker': 'Dance Review | Alvin Ailey American Dance Theater',\n",
       "    'kicker': 'Dance Review | Alvin Ailey American Dance Theater',\n",
       "    'main': 'Experiencing America, With Foot and Instrument',\n",
       "    'print_headline': 'Experiencing America, With Foot and Instrument',\n",
       "    'seo': 'Experiencing America, With Foot and Instrument at City Center'},\n",
       "   'keywords': [{'is_major': 'N',\n",
       "     'name': 'subject',\n",
       "     'rank': '1',\n",
       "     'value': 'Dancing'},\n",
       "    {'is_major': 'N',\n",
       "     'name': 'organizations',\n",
       "     'rank': '2',\n",
       "     'value': 'Ailey, Alvin, American Dance Theater'},\n",
       "    {'is_major': 'N',\n",
       "     'name': 'persons',\n",
       "     'rank': '3',\n",
       "     'value': 'Ellington, Duke'}],\n",
       "   'lead_paragraph': 'The climax of the Alvin Ailey American Dance Theater’s 50th-anniversary season has arrived in the middle of its run, with two programs whose first two-thirds are to music by Duke Ellington.',\n",
       "   'multimedia': [{'height': 281,\n",
       "     'legacy': {'xlarge': 'images/2008/12/20/arts/dance/jazz.span.jpg',\n",
       "      'xlargeheight': '281',\n",
       "      'xlargewidth': '600'},\n",
       "     'subtype': 'xlarge',\n",
       "     'type': 'image',\n",
       "     'url': 'images/2008/12/20/arts/dance/jazz.span.jpg',\n",
       "     'width': 600},\n",
       "    {'height': 75,\n",
       "     'legacy': {'thumbnail': 'images/2008/12/20/arts/dance/jazz.75.jpg',\n",
       "      'thumbnailheight': '75',\n",
       "      'thumbnailwidth': '75'},\n",
       "     'subtype': 'thumbnail',\n",
       "     'type': 'image',\n",
       "     'url': 'images/2008/12/20/arts/dance/jazz.75.jpg',\n",
       "     'width': 75}],\n",
       "   'news_desk': 'Culture',\n",
       "   'print_page': '1',\n",
       "   'pub_date': '2008-12-20T00:00:00Z',\n",
       "   'section_name': 'Arts',\n",
       "   'slideshow_credits': None,\n",
       "   'snippet': 'The climax of the Alvin Ailey American Dance Theater’s 50th-anniversary season has arrived in the middle of its run, with two programs whose first two-thirds are to music by Duke Ellington.',\n",
       "   'source': 'The New York Times',\n",
       "   'subsection_name': 'Dance',\n",
       "   'type_of_material': 'Review',\n",
       "   'web_url': 'http://www.nytimes.com/2008/12/20/arts/dance/20jazz.html',\n",
       "   'word_count': '839'},\n",
       "  {'_id': '54850e8b38f0d84e18ddfd1e',\n",
       "   'abstract': None,\n",
       "   'blog': [],\n",
       "   'byline': {'original': 'By WILLIAM NEUMAN',\n",
       "    'person': [{'firstname': 'William',\n",
       "      'lastname': 'NEUMAN',\n",
       "      'organization': '',\n",
       "      'rank': 1,\n",
       "      'role': 'reported'}]},\n",
       "   'document_type': 'article',\n",
       "   'headline': {'main': 'Riding the Length of Manhattan, on Seats of Rattan',\n",
       "    'print_headline': 'Riding the Length of Manhattan, on Seats of Rattan'},\n",
       "   'keywords': [{'is_major': 'N',\n",
       "     'name': 'subject',\n",
       "     'rank': '1',\n",
       "     'value': 'Subways'},\n",
       "    {'is_major': 'N',\n",
       "     'name': 'organizations',\n",
       "     'rank': '2',\n",
       "     'value': 'Metropolitan Transportation Authority'},\n",
       "    {'is_major': 'N',\n",
       "     'name': 'subject',\n",
       "     'rank': '3',\n",
       "     'value': 'Transit Systems'},\n",
       "    {'is_major': 'N', 'name': 'subject', 'rank': '4', 'value': 'Jazz'},\n",
       "    {'is_major': 'N', 'name': 'subject', 'rank': '5', 'value': 'Music'},\n",
       "    {'is_major': 'N',\n",
       "     'name': 'persons',\n",
       "     'rank': '6',\n",
       "     'value': 'Ellington, Duke'},\n",
       "    {'is_major': 'N',\n",
       "     'name': 'glocations',\n",
       "     'rank': '7',\n",
       "     'value': 'Manhattan (NYC)'},\n",
       "    {'is_major': 'N',\n",
       "     'name': 'glocations',\n",
       "     'rank': '8',\n",
       "     'value': 'Harlem (NYC)'}],\n",
       "   'lead_paragraph': 'In celebration of the 75th birthday of the A train, the Metropolitan Transportation Authority strung together a train of pre-World War II subway cars.',\n",
       "   'multimedia': [{'height': 75,\n",
       "     'legacy': {'thumbnail': 'images/2007/09/11/nyregion/11atrain-75.jpg',\n",
       "      'thumbnailheight': '75',\n",
       "      'thumbnailwidth': '75'},\n",
       "     'subtype': 'thumbnail',\n",
       "     'type': 'image',\n",
       "     'url': 'images/2007/09/11/nyregion/11atrain-75.jpg',\n",
       "     'width': 75}],\n",
       "   'news_desk': 'Metro',\n",
       "   'print_page': '3',\n",
       "   'pub_date': '2007-09-11T00:00:00Z',\n",
       "   'section_name': 'N.Y. / Region',\n",
       "   'slideshow_credits': None,\n",
       "   'snippet': 'In celebration of the 75th birthday of the A train, the Metropolitan Transportation Authority strung together a train of pre-World War II subway cars.',\n",
       "   'source': 'The New York Times',\n",
       "   'subsection_name': None,\n",
       "   'type_of_material': 'News',\n",
       "   'web_url': 'http://www.nytimes.com/2007/09/11/nyregion/11atrain.html',\n",
       "   'word_count': '637'},\n",
       "  {'_id': '540d536938f0d85bf2515687',\n",
       "   'abstract': None,\n",
       "   'blog': [],\n",
       "   'byline': {'contributor': '',\n",
       "    'original': 'Compiled by RACHEL LEE HARRIS',\n",
       "    'person': [{'firstname': 'Rachel',\n",
       "      'lastname': 'HARRIS',\n",
       "      'middlename': 'Lee',\n",
       "      'organization': '',\n",
       "      'rank': 1,\n",
       "      'role': 'reported'}]},\n",
       "   'document_type': 'article',\n",
       "   'headline': {'content_kicker': 'Arts, Briefly',\n",
       "    'main': 'New Series to Honor Duke Ellington',\n",
       "    'print_headline': 'New Series to Honor Duke Ellington'},\n",
       "   'keywords': [{'is_major': 'N',\n",
       "     'name': 'subject',\n",
       "     'rank': '1',\n",
       "     'value': 'Jazz'},\n",
       "    {'is_major': 'N',\n",
       "     'name': 'persons',\n",
       "     'rank': '2',\n",
       "     'value': 'Ellington, Duke'}],\n",
       "   'lead_paragraph': 'This year City Center’s Encores! series and Jazz at Lincoln Center will present a tribute to Ellington’s performances at the Cotton Club.',\n",
       "   'multimedia': [],\n",
       "   'news_desk': 'Culture',\n",
       "   'print_page': '2',\n",
       "   'pub_date': '2011-05-02T00:00:00Z',\n",
       "   'section_name': 'Arts',\n",
       "   'slideshow_credits': None,\n",
       "   'snippet': 'This year City Center’s Encores! series and Jazz at Lincoln Center will present a tribute to Ellington’s performances at the Cotton Club.',\n",
       "   'source': 'The New York Times',\n",
       "   'subsection_name': 'Music',\n",
       "   'type_of_material': 'Brief',\n",
       "   'web_url': 'http://www.nytimes.com/2011/05/02/arts/music/new-series-to-honor-duke-ellington.html',\n",
       "   'word_count': '131'}],\n",
       " 'meta': {'hits': 1172, 'offset': 0, 'time': 321}}"
      ]
     },
     "execution_count": 17,
     "metadata": {},
     "output_type": "execute_result"
    }
   ],
   "source": [
    "# this is what we want!\n",
    "data['response']"
   ]
  },
  {
   "cell_type": "code",
   "execution_count": 18,
   "metadata": {
    "collapsed": false
   },
   "outputs": [
    {
     "data": {
      "text/plain": [
       "dict_keys(['docs', 'meta'])"
      ]
     },
     "execution_count": 18,
     "metadata": {},
     "output_type": "execute_result"
    }
   ],
   "source": [
    "data['response'].keys()"
   ]
  },
  {
   "cell_type": "code",
   "execution_count": 19,
   "metadata": {
    "collapsed": false
   },
   "outputs": [
    {
     "data": {
      "text/plain": [
       "1172"
      ]
     },
     "execution_count": 19,
     "metadata": {},
     "output_type": "execute_result"
    }
   ],
   "source": [
    "data['response']['meta']['hits']"
   ]
  },
  {
   "cell_type": "code",
   "execution_count": 20,
   "metadata": {
    "collapsed": false
   },
   "outputs": [
    {
     "data": {
      "text/plain": [
       "list"
      ]
     },
     "execution_count": 20,
     "metadata": {},
     "output_type": "execute_result"
    }
   ],
   "source": [
    "# data['response']['docs']\n",
    "type(data['response']['docs'])"
   ]
  },
  {
   "cell_type": "markdown",
   "metadata": {},
   "source": [
    "That looks what we want! Let's put that in it's own variable."
   ]
  },
  {
   "cell_type": "code",
   "execution_count": 21,
   "metadata": {
    "collapsed": false
   },
   "outputs": [],
   "source": [
    "docs = data['response']['docs']"
   ]
  },
  {
   "cell_type": "code",
   "execution_count": 22,
   "metadata": {
    "collapsed": false
   },
   "outputs": [
    {
     "data": {
      "text/plain": [
       "{'_id': '56b5288a38f0d86b498f997d',\n",
       " 'abstract': 'Sam Roberts reviews books The First Congress: How James Madison, George Washington and a Group of Extraordinary Men Invented the Government by Fergus M Bordewich,  Strayhorn: An Illustrated Life edited by A Alyce Claerbaut and David Schlesinger and New York From Above by Evan Joseph. ',\n",
       " 'blog': [],\n",
       " 'byline': {'original': 'By SAM ROBERTS',\n",
       "  'person': [{'firstname': 'Sam',\n",
       "    'lastname': 'ROBERTS',\n",
       "    'organization': '',\n",
       "    'rank': 1,\n",
       "    'role': 'reported'}]},\n",
       " 'document_type': 'article',\n",
       " 'headline': {'content_kicker': 'Bookshelf',\n",
       "  'kicker': 'Bookshelf',\n",
       "  'main': 'City History, and Vantages, Often Overlooked',\n",
       "  'print_headline': 'A Congress, a Composer and a Skyline  '},\n",
       " 'keywords': [{'is_major': 'Y',\n",
       "   'name': 'subject',\n",
       "   'rank': '1',\n",
       "   'value': 'Books and Literature'},\n",
       "  {'is_major': 'Y',\n",
       "   'name': 'persons',\n",
       "   'rank': '2',\n",
       "   'value': 'Bordewich, Fergus M'},\n",
       "  {'is_major': 'N',\n",
       "   'name': 'persons',\n",
       "   'rank': '7',\n",
       "   'value': 'Ellington, Duke'},\n",
       "  {'is_major': 'N', 'name': 'subject', 'rank': '8', 'value': 'Music'},\n",
       "  {'is_major': 'N', 'name': 'subject', 'rank': '9', 'value': 'Jazz'},\n",
       "  {'is_major': 'N',\n",
       "   'name': 'subject',\n",
       "   'rank': '10',\n",
       "   'value': 'United States Politics and Government'}],\n",
       " 'lead_paragraph': 'Remembering Manhattan’s role as the nation’s first capital, paying tribute to an unsung composer and enjoying bird’s-eye views of the skyline.',\n",
       " 'multimedia': [{'height': 126,\n",
       "   'legacy': {'wide': 'images/2016/02/07/nyregion/07BOOKSHELF/07BOOKSHELF-thumbWide.jpg',\n",
       "    'wideheight': '126',\n",
       "    'widewidth': '190'},\n",
       "   'subtype': 'wide',\n",
       "   'type': 'image',\n",
       "   'url': 'images/2016/02/07/nyregion/07BOOKSHELF/07BOOKSHELF-thumbWide.jpg',\n",
       "   'width': 190},\n",
       "  {'height': 344,\n",
       "   'legacy': {'xlarge': 'images/2016/02/07/nyregion/07BOOKSHELF/07BOOKSHELF-articleLarge.jpg',\n",
       "    'xlargeheight': '344',\n",
       "    'xlargewidth': '600'},\n",
       "   'subtype': 'xlarge',\n",
       "   'type': 'image',\n",
       "   'url': 'images/2016/02/07/nyregion/07BOOKSHELF/07BOOKSHELF-articleLarge.jpg',\n",
       "   'width': 600},\n",
       "  {'height': 75,\n",
       "   'legacy': {'thumbnail': 'images/2016/02/07/nyregion/07BOOKSHELF/07BOOKSHELF-thumbStandard.jpg',\n",
       "    'thumbnailheight': '75',\n",
       "    'thumbnailwidth': '75'},\n",
       "   'subtype': 'thumbnail',\n",
       "   'type': 'image',\n",
       "   'url': 'images/2016/02/07/nyregion/07BOOKSHELF/07BOOKSHELF-thumbStandard.jpg',\n",
       "   'width': 75}],\n",
       " 'news_desk': 'Metropolitan',\n",
       " 'print_page': '3',\n",
       " 'pub_date': '2016-02-07T00:00:00Z',\n",
       " 'section_name': 'N.Y. / Region',\n",
       " 'slideshow_credits': None,\n",
       " 'snippet': 'Remembering Manhattan’s role as the nation’s first capital, paying tribute to an unsung composer and enjoying bird’s-eye views of the skyline.',\n",
       " 'source': 'The New York Times',\n",
       " 'subsection_name': None,\n",
       " 'type_of_material': 'News',\n",
       " 'web_url': 'http://www.nytimes.com/2016/02/07/nyregion/city-history-and-vantages-often-overlooked.html',\n",
       " 'word_count': '533'}"
      ]
     },
     "execution_count": 22,
     "metadata": {},
     "output_type": "execute_result"
    }
   ],
   "source": [
    "docs[0]"
   ]
  },
  {
   "cell_type": "markdown",
   "metadata": {},
   "source": [
    "## 3. Putting everything together to get all the articles."
   ]
  },
  {
   "cell_type": "markdown",
   "metadata": {},
   "source": [
    "That's great. But we only have 10 items. The original response said we had 171 hits! Which means we have to make 171 /10, or 18 requests to get them all. Sounds like a job for a loop! \n",
    "\n",
    "But first, let's review what we've done so far."
   ]
  },
  {
   "cell_type": "code",
   "execution_count": 23,
   "metadata": {
    "collapsed": false
   },
   "outputs": [
    {
     "name": "stdout",
     "output_type": "stream",
     "text": [
      "number of hits: 0\n"
     ]
    }
   ],
   "source": [
    "# set key\n",
    "key=\"ef9055ba947dd842effe0ecf5e338af9:15:72340235\"\n",
    "\n",
    "# set base url\n",
    "base_url=\"http://api.nytimes.com/svc/search/v2/articlesearch\"\n",
    "\n",
    "# set response format\n",
    "response_format=\".json\"\n",
    "\n",
    "# set search parameters\n",
    "search_params = {\"q\":\"Duke Ellington\",\n",
    "                 \"api-key\":key,\n",
    "                 \"begin_date\":\"20050101\", # date must be in YYYYMMDD format\n",
    "                 \"end_date\":\"20050101\"}\n",
    "\n",
    "# make request\n",
    "r = requests.get(base_url+response_format, params=search_params)\n",
    "    \n",
    "# convert to a dictionary\n",
    "data=json.loads(r.text)\n",
    "    \n",
    "# get number of hits\n",
    "hits = data['response']['meta']['hits']\n",
    "print (\"number of hits: \" + str(hits))\n",
    "    \n",
    "# get number of pages\n",
    "pages = int(math.ceil(hits/10))\n",
    "    \n",
    "# make an empty list where we'll hold all of our docs for every page\n",
    "all_docs = [] \n",
    "    \n",
    "# now we're ready to loop through the pages\n",
    "for i in range(pages):\n",
    "    print (\"collecting page \" + str(i))\n",
    "        \n",
    "    # set the page parameter\n",
    "    search_params['page'] = i\n",
    "        \n",
    "    # make request\n",
    "    r = requests.get(base_url+response_format, params=search_params)\n",
    "    \n",
    "    # get text and convert to a dictionary\n",
    "    data=json.loads(r.text)\n",
    "        \n",
    "    # get just the docs\n",
    "    docs = data['response']['docs']\n",
    "        \n",
    "    # add those docs to the big list\n",
    "    all_docs = all_docs + docs"
   ]
  },
  {
   "cell_type": "code",
   "execution_count": 24,
   "metadata": {
    "collapsed": false
   },
   "outputs": [
    {
     "data": {
      "text/plain": [
       "0"
      ]
     },
     "execution_count": 24,
     "metadata": {},
     "output_type": "execute_result"
    }
   ],
   "source": [
    "len(all_docs)"
   ]
  },
  {
   "cell_type": "markdown",
   "metadata": {},
   "source": [
    "### Challenge 3: Make a function\n",
    "\n",
    "Turn the code above into a function that inputs a search term, and returns all the documents containing that search term in 2014."
   ]
  },
  {
   "cell_type": "code",
   "execution_count": 54,
   "metadata": {
    "collapsed": false
   },
   "outputs": [],
   "source": [
    "def NYT_search (searchinput, year = 2016):\n",
    "    # set key\n",
    "    key=\"ef9055ba947dd842effe0ecf5e338af9:15:72340235\"\n",
    "\n",
    "    # set base url\n",
    "    base_url=\"http://api.nytimes.com/svc/search/v2/articlesearch\"\n",
    "\n",
    "    # set response format\n",
    "    response_format=\".json\"\n",
    "\n",
    "    # set search parameters\n",
    "    search_params = {\"q\":searchinput,\n",
    "                     \"api-key\":key,\n",
    "                     \"begin_date\": str(year) +\"0101\", # date must be in YYYYMMDD format\n",
    "                     \"end_date\":str(year) +\"1231\",\n",
    "                    \"fq\":\"news_desk:Dining\"}\n",
    "\n",
    "    # make request\n",
    "    r = requests.get(base_url+response_format, params=search_params)\n",
    "\n",
    "    # convert to a dictionary\n",
    "    data=json.loads(r.text)\n",
    "\n",
    "    # get number of hits\n",
    "    hits = data['response']['meta']['hits']\n",
    "    print (\"number of hits: \" + str(hits))\n",
    "\n",
    "    # get number of pages\n",
    "    pages = int(math.ceil(hits/10))\n",
    "\n",
    "    # make an empty list where we'll hold all of our docs for every page\n",
    "    all_docs = [] \n",
    "    # now we're ready to loop through the pages\n",
    "    \n",
    "    for i in range(pages):\n",
    "        print (\"collecting page \" + str(i))\n",
    "\n",
    "        # set the page parameter\n",
    "        search_params['page'] = i\n",
    "\n",
    "        # make request\n",
    "        r = requests.get(base_url+response_format, params=search_params)\n",
    "        print (r.url)\n",
    "\n",
    "        # get text and convert to a dictionary\n",
    "        data=json.loads(r.text)\n",
    "\n",
    "        # get just the docs\n",
    "        docs = data['response']['docs']\n",
    "\n",
    "        # add those docs to the big list\n",
    "        all_docs = all_docs + docs\n",
    "        \n",
    "    return all_docs"
   ]
  },
  {
   "cell_type": "code",
   "execution_count": 55,
   "metadata": {
    "collapsed": false
   },
   "outputs": [
    {
     "name": "stdout",
     "output_type": "stream",
     "text": [
      "number of hits: 9\n",
      "collecting page 0\n",
      "http://api.nytimes.com/svc/search/v2/articlesearch.json?q=toppings&api-key=ef9055ba947dd842effe0ecf5e338af9%3A15%3A72340235&page=0&end_date=20161231&begin_date=20160101&fq=news_desk%3ADining\n"
     ]
    }
   ],
   "source": [
    "results = NYT_search (\"toppings\", 2016)"
   ]
  },
  {
   "cell_type": "code",
   "execution_count": 34,
   "metadata": {
    "collapsed": false
   },
   "outputs": [
    {
     "ename": "TypeError",
     "evalue": "'function' object is not subscriptable",
     "output_type": "error",
     "traceback": [
      "\u001b[0;31m---------------------------------------------------------------------------\u001b[0m",
      "\u001b[0;31mTypeError\u001b[0m                                 Traceback (most recent call last)",
      "\u001b[0;32m<ipython-input-34-aeee3b96887b>\u001b[0m in \u001b[0;36m<module>\u001b[0;34m()\u001b[0m\n\u001b[0;32m----> 1\u001b[0;31m \u001b[0mresults\u001b[0m \u001b[0;34m[\u001b[0m\u001b[0;36m12\u001b[0m\u001b[0;34m]\u001b[0m\u001b[0;34m\u001b[0m\u001b[0m\n\u001b[0m",
      "\u001b[0;31mTypeError\u001b[0m: 'function' object is not subscriptable"
     ]
    }
   ],
   "source": [
    "results [12]"
   ]
  },
  {
   "cell_type": "markdown",
   "metadata": {},
   "source": [
    "## 4. Formatting and Exporting\n",
    "\n",
    "Let's take another look at one of these documents."
   ]
  },
  {
   "cell_type": "code",
   "execution_count": 31,
   "metadata": {
    "collapsed": false
   },
   "outputs": [
    {
     "ename": "IndexError",
     "evalue": "list index out of range",
     "output_type": "error",
     "traceback": [
      "\u001b[0;31m---------------------------------------------------------------------------\u001b[0m",
      "\u001b[0;31mIndexError\u001b[0m                                Traceback (most recent call last)",
      "\u001b[0;32m<ipython-input-31-5f370550551b>\u001b[0m in \u001b[0;36m<module>\u001b[0;34m()\u001b[0m\n\u001b[0;32m----> 1\u001b[0;31m \u001b[0mall_docs\u001b[0m \u001b[0;34m[\u001b[0m\u001b[0;36m1\u001b[0m\u001b[0;34m]\u001b[0m\u001b[0;34m\u001b[0m\u001b[0m\n\u001b[0m",
      "\u001b[0;31mIndexError\u001b[0m: list index out of range"
     ]
    }
   ],
   "source": [
    "all_docs [1]"
   ]
  },
  {
   "cell_type": "markdown",
   "metadata": {},
   "source": [
    "This is all great, but it's pretty messy. What we’d really like to to have, eventually, is a CSV, with each row representing an article, and each column representing something about that article (header, date, etc). As we saw before, the best way to do this is to make a lsit of dictionaries, with each dictionary representing an article and each dictionary representing a field of metadata from that article (e.g. headline, date, etc.) We can do this with a custom function:"
   ]
  },
  {
   "cell_type": "code",
   "execution_count": 47,
   "metadata": {
    "collapsed": true
   },
   "outputs": [],
   "source": [
    "def format_articles(unformatted_docs):\n",
    "    '''\n",
    "    This function takes in a list of documents returned by the NYT api \n",
    "    and parses the documents into a list of dictionaries, \n",
    "    with 'id', 'header', and 'date' keys\n",
    "    '''\n",
    "    formatted = []\n",
    "    for i in unformatted_docs:\n",
    "        dic = {}\n",
    "        dic['id'] = i['_id']\n",
    "        dic['headline'] = i['headline']['main'].encode(\"utf8\")\n",
    "        dic['date'] = i['pub_date'][0:10] # cutting time of day.\n",
    "        formatted.append(dic)\n",
    "    return(formatted) "
   ]
  },
  {
   "cell_type": "code",
   "execution_count": 48,
   "metadata": {
    "collapsed": false
   },
   "outputs": [],
   "source": [
    "all_formatted = format_articles(results)\n"
   ]
  },
  {
   "cell_type": "code",
   "execution_count": 49,
   "metadata": {
    "collapsed": false
   },
   "outputs": [
    {
     "data": {
      "text/plain": [
       "[{'date': '2016-03-23',\n",
       "  'headline': b'Miso Soup Delivers Deep Weeknight Flavor',\n",
       "  'id': '56ec1a8b38f0d82753b97626'},\n",
       " {'date': '2016-02-03',\n",
       "  'headline': b'Super Bowl 50 Playbook Calls for Loaded Nachos',\n",
       "  'id': '56b107ad38f0d873ef2950ea'},\n",
       " {'date': '2016-03-30',\n",
       "  'headline': b'At Lilia in Brooklyn, Missy Robbins Is Cooking Pasta Again',\n",
       "  'id': '56fa9a6f38f0d874a87cb2d2'},\n",
       " {'date': '2016-02-24',\n",
       "  'headline': b'Hot Cereal 30 Ways at OatMeals in Greenwich Village',\n",
       "  'id': '56c5a46a38f0d85d2735f737'},\n",
       " {'date': '2016-02-17',\n",
       "  'headline': b'Bedford &amp; Co. Fires Up a Wood Grill',\n",
       "  'id': '56c37e9038f0d82fc3a19944'}]"
      ]
     },
     "execution_count": 49,
     "metadata": {},
     "output_type": "execute_result"
    }
   ],
   "source": [
    "all_formatted[:5]"
   ]
  },
  {
   "cell_type": "markdown",
   "metadata": {},
   "source": [
    "### Challenge 4: Export the data to a CSV."
   ]
  },
  {
   "cell_type": "code",
   "execution_count": null,
   "metadata": {
    "collapsed": true
   },
   "outputs": [],
   "source": [
    "import csv"
   ]
  },
  {
   "cell_type": "code",
   "execution_count": null,
   "metadata": {
    "collapsed": false
   },
   "outputs": [],
   "source": [
    "testfile = open(\"test3.csv\", \"w\")\n",
    "f = csv.writer(testfile)\n",
    "\n",
    "f.writerow([\"date\", \"headline\", \"id\"])\n",
    "\n",
    "for x in all_formatted:\n",
    "    f.writerow ([x[\"date\"], x[\"headline\"], x[\"id\"]])\n",
    "testfile.close()"
   ]
  },
  {
   "cell_type": "code",
   "execution_count": 36,
   "metadata": {
    "collapsed": false
   },
   "outputs": [
    {
     "data": {
      "text/plain": [
       "<function __main__.NYT_search>"
      ]
     },
     "execution_count": 36,
     "metadata": {},
     "output_type": "execute_result"
    }
   ],
   "source": [
    "NYT_search"
   ]
  }
 ],
 "metadata": {
  "kernelspec": {
   "display_name": "Python 3",
   "language": "python",
   "name": "python3"
  },
  "language_info": {
   "codemirror_mode": {
    "name": "ipython",
    "version": 3
   },
   "file_extension": ".py",
   "mimetype": "text/x-python",
   "name": "python",
   "nbconvert_exporter": "python",
   "pygments_lexer": "ipython3",
   "version": "3.5.1"
  }
 },
 "nbformat": 4,
 "nbformat_minor": 0
}
