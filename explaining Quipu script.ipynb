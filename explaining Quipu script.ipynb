{
 "cells": [
  {
   "cell_type": "markdown",
   "metadata": {},
   "source": [
    "#Project is from http://pfch.nyc/quipu/index.html"
   ]
  },
  {
   "cell_type": "markdown",
   "metadata": {},
   "source": [
    "#Importing the BeautifulSoup library to parse webpages; importing python libraries"
   ]
  },
  {
   "cell_type": "code",
   "execution_count": 3,
   "metadata": {
    "collapsed": false
   },
   "outputs": [],
   "source": [
    "from bs4 import BeautifulSoup\n",
    "import requests, json, re, urllib.request, magic, os"
   ]
  },
  {
   "cell_type": "markdown",
   "metadata": {},
   "source": [
    "#declaring (initializing) the variable \"all_results\" (type=list) and \"subjects_dict\" (type=dictionary)"
   ]
  },
  {
   "cell_type": "code",
   "execution_count": 5,
   "metadata": {
    "collapsed": true
   },
   "outputs": [],
   "source": [
    "all_results = []\n",
    "subjects_dict = {}"
   ]
  },
  {
   "cell_type": "markdown",
   "metadata": {},
   "source": [
    "#defining a function to: 1) gather item data from the title, thumbnail, url, institution, object_date, subjects, medium, type, source, and creator fields; 2) evaluate date format using the compile function from the Regular Expression (re) module (this compiles a regular expression pattern into a regular expression object); 3) normalize dates for each item to a 4-digit year or, if no year, set date to \"unknown\"; 4) save that data in a dictionary; and 5) add it to the list \"all_results\""
   ]
  },
  {
   "cell_type": "code",
   "execution_count": 7,
   "metadata": {
    "collapsed": true
   },
   "outputs": [],
   "source": [
    "# FUNCTION: Write each item data and normalized date as dictionary to list \"all_results\"\n",
    "\n",
    "def addItem(title, thumbnail, url, institution, object_date, subjects, medium, type, my_source, creator=None):\n",
    "\tgood_date_format = re.compile('\\d{4}')\n",
    "\tslash_date_format = re.compile('\\d*/\\d*/\\d{2}')\n",
    "\tif good_date_format.match(object_date):\n",
    "\t\tdate_normalized = object_date[:4]\n",
    "\telif good_date_format.search(object_date):\n",
    "\t\tyear_search = good_date_format.search(object_date)\n",
    "\t\tdate_normalized = year_search.group()\n",
    "# this will maybe need to be rethought because it is a hack: assuming 1800s\n",
    "\telif slash_date_format.search(object_date):\n",
    "\t\tyear_search = slash_date_format.search(object_date)\n",
    "\t\tdate_normalized = year_search.group()\n",
    "\t\tdate_normalized = date_normalized[-2:]\n",
    "\t\tdate_normalized = \"18\"+date_normalized\t\t\n",
    "\telse:\n",
    "\t\tdate_normalized = \"unknown\"\n",
    "\tfor subject in subjects:\n",
    "\t\tif subject in subjects_dict:\n",
    "\t\t\tsubjects_dict[subject] = subjects_dict[subject]+1\n",
    "\t\telse:\n",
    "  \t\t\tsubjects_dict[subject]=1\t\t\n",
    "\titem_dict = { \t\t'title': title,\n",
    "\t\t\t\t\t\t'thumbnail': thumbnail,\n",
    "\t\t\t\t\t\t'url': url,\n",
    "\t\t\t\t\t\t'institution': institution,\n",
    "\t\t\t\t\t\t'object_date': object_date,\n",
    "\t\t\t\t\t\t'norm_date': date_normalized,\n",
    "\t\t\t\t\t\t'subjects': subjects,\t\t\t\t\t\t\n",
    "\t\t\t\t\t\t'medium': medium,\n",
    "\t\t\t\t\t\t'type': type,\n",
    "\t\t\t\t\t\t'my_source': my_source\t}\n",
    "\tif creator:\n",
    "\t\titem_dict['creator'] = creator\t\t\t\t\t\t\t\t\t\t\n",
    "\tif thumbnail != 'unknown':\n",
    "\t\ttry:\n",
    "\t\t\tthumb_match = re.compile('(.*)/(.*.jpg$)')\n",
    "\t\t\tthumb = thumb_match.search(thumbnail)\t\n",
    "\t\t\tfile = \"thumbnails/\"+thumb.group(2)\n",
    "\t\texcept:\n",
    "\t\t\ttry:\n",
    "\t\t\t\tthumb_match = re.compile('(.*)/(.*.gif$)')\n",
    "\t\t\t\tthumb = thumb_match.search(thumbnail)\t\n",
    "\t\t\t\tfile = \"thumbnails/\"+thumb.group(2)\n",
    "\t\t\texcept:\n",
    "\t\t\t\ttry:\n",
    "\t\t\t\t\tthumb_match = re.compile('(.*)/.*/(.*)(/thumbnail$)')\n",
    "\t\t\t\t\tthumb = thumb_match.search(thumbnail)\t\t\t\t\t\t\n",
    "\t\t\t\t\tfile = \"thumbnails/\"+thumb.group(2)\t\t\t\t\t\n",
    "\t\t\t\texcept:\n",
    "\t\t\t\t\ttry:\n",
    "\t\t\t\t\t\tthumb_match = re.compile('(.*id/)(.*)')\n",
    "\t\t\t\t\t\tthumb = thumb_match.search(thumbnail)\n",
    "\t\t\t\t\t\tfile = \"thumbnails/\"+thumb.group(2)\t\n",
    "\t\t\t\t\texcept:\n",
    "# NYPL\n",
    "\t\t\t\t\t\ttry:\n",
    "\t\t\t\t\t\t\tthumb_match = re.compile('(.*id=)(.*)(&t=t)')\n",
    "\t\t\t\t\t\t\tthumb = thumb_match.search(thumbnail)\n",
    "\t\t\t\t\t\t\tfile = \"thumbnails/\"+thumb.group(2)\n",
    "\t\t\t\t\t\texcept:\n",
    "\t\t\t\t\t\t\tpass\t\t\t\t\t\t\t\t\n",
    "\t\n",
    "\t\turllib.request.urlretrieve(thumbnail, file)\n",
    "# check for thumbs no extension\t\t\n",
    "\t\tif '.' not in file and os.path.isfile(file):\n",
    "\t\t\tmime = magic.from_file(file, mime=True)\n",
    "#\t\t\tprint(mime)\n",
    "\t\t\textension_match = re.compile(b'(.*)/(.*)')\t\t\t\t\n",
    "\t\t\textension = extension_match.search(mime)\n",
    "\t\t\textension = str(extension.group(2))\n",
    "\t\t\textension = extension[2:]\n",
    "\t\t\textension = extension[:-1]\n",
    "\t\t\tnew_filename = file+'.'+extension\n",
    "#\t\t\tprint(new_filename)\n",
    "\t\t\tos.rename(file, new_filename)\n",
    "\t\t\tfile = str(new_filename)\n",
    "\t\tfile = file.replace('thumbnails/','')\n",
    "#\t\tprint (file)\n",
    "\telse:\n",
    "\t\tfile = 'noimg.png'\t\t\n",
    "\titem_dict['local_thumbnail'] = file\t\n",
    "# create temp list to monitor progress\t\t\t\t\t\t\t\t\t\t\t\t\t\t\t\t\t\n",
    "\twith open(\"exclusion_master_running\",\"a\") as file:\n",
    "\t\tfile.write(str(item_dict)) \n",
    "# push dict to list for final write at end\t\t\t\t\t\t\t\t\n",
    "\tall_results.append(item_dict)\n",
    "\t"
   ]
  },
  {
   "cell_type": "markdown",
   "metadata": {},
   "source": [
    "#Defining a function called \"getCSPInfo\" to get information from the California State Parks webpage for Angel Island Chinese Immigration Certificates, look at each detail page, and parse the fields"
   ]
  },
  {
   "cell_type": "code",
   "execution_count": 8,
   "metadata": {
    "collapsed": true
   },
   "outputs": [],
   "source": [
    "# FUNCTION: CALIFORNIA STATE PARKS (COLLECTION: ANGEL ISLAND CHINESE IMMIGRATION CERTIFICATES)\n",
    "# get info from page for certificate and parse person detail page\n",
    "\n",
    "def getCSPInfo (url, soup):\n",
    "#\tprint ('CSP certificate item')\n",
    "\tinstitution = \"California State Parks, State Museum Resource Center\"\n",
    "\tmedium = 'certificate'\n",
    "\ttype = 'image'\n",
    "\ttitle = re.compile('Object Name:.*?<td>(.*?)</td>')\n",
    "\towner_info = re.compile('Original Owner:</strong></td><td><a href=\"(.*?)\">(.*?)</a>')\n",
    "\ttitle3 = re.compile('Original Owner:</strong></td><td><a.*?>.*?</a>(,.*?)</td>')\n",
    "\tsubjects_string = re.compile('Subject:.*?<td>(.*?)</td>')\n",
    "\tsoup_string = str(soup.html)\n",
    "\ttitle_matches = title.search(soup_string)\t\n",
    "\towner_string = owner_info.search(soup_string)\n",
    "\ttitle2_string = owner_string.group(2)\t\n",
    "\tif (title3.search(soup_string)):\n",
    "\t\ttitle3_string = title3.search(soup_string)\n",
    "\t\ttitle3_string = title3_string.group(1)\n",
    "\t\ttitle2_string = title2_string+title3_string\n",
    "\ttitle = title2_string+ \" (\"+title_matches.group(1)+\")\"\n",
    "\tprint (title)\n",
    "\tsubjects_match = subjects_string.search(soup_string)\n",
    "\tsubjects = subjects_match.group(1).replace(';',',')\n",
    "\tsubjects = [x.strip() for x in subjects.split(',')]\n",
    "# dig into person page text for date\n",
    "\tperson_url = owner_string.group(1)\n",
    "\tperson_url = person_url.replace('amp;', '')\t\n",
    "\tperson_url = \"http://www.museumcollections.parks.ca.gov/code/\"+person_url\n",
    "#\tprint (person_url)\n",
    "\tperson_page = requests.get(person_url) \n",
    "\tperson_html = person_page.text\n",
    "\tperson_soup = BeautifulSoup(person_html)\t\n",
    "\tperson_soup_string = str(person_soup.html)\n",
    "\tobject_date = ''\n",
    "#\tprint (person_soup_string)\n",
    "\tdate_word_anchors = [' arrived ', ' came ', ' immigrated ']\t\n",
    "\tfor anchor in date_word_anchors:\n",
    "#\t\tprint(anchor)\n",
    "\t\tif (object_date == ''):\n",
    "\t\t\tdate_match = re.compile(anchor+'.*?(\\d\\d\\d\\d)')\n",
    "\t\t\tdate_string = date_match.search(person_soup_string)\t\t\n",
    "\t\t\ttry:\n",
    "\t\t\t\tobject_date = date_string.group(1)\n",
    "#\t\t\t\tprint (anchor+\": \"+object_date)\n",
    "\t\t\texcept:\n",
    "\t\t\t\tprint (anchor+\": not found\")\t\t\n",
    "\timages = soup.find_all('img')\n",
    "\tfor image in images:\n",
    "\t\tif \"http://www.museumcollections.parks.ca.gov/media/previews/\" in image['src']:\n",
    "\t\t\tthumbnail = image['src']\n",
    "\t\t\timg = thumbnail.replace('previews', 'full')\n",
    "\tmy_source = 'CSP'\n",
    "\tcreator = 'Angel Island Immigration Station'\t\t\n",
    "\taddItem(title, thumbnail, url, institution, object_date, subjects, medium, type, my_source, creator)\t\n"
   ]
  },
  {
   "cell_type": "markdown",
   "metadata": {},
   "source": [
    "#Defining a function called \"getCSPInfo2\" to go to the California State Parks webpage for the Angel Island Immigration Station collection and get information from each photo page"
   ]
  },
  {
   "cell_type": "code",
   "execution_count": null,
   "metadata": {
    "collapsed": true
   },
   "outputs": [],
   "source": [
    "# FUNCTION: CALIFORNIA STATE PARKS (COLLECTION: ANGEL ISLAND IMMIGRATION STATION)\n",
    "# get info from page for photo\n",
    "\n",
    "def getCSPInfo2 (url, soup):\n",
    "\tinstitution = \"California State Parks, State Museum Resource Center\"\n",
    "\tmedium = 'lantern slide'\n",
    "\ttype = 'image'\n",
    "\ttitle = re.compile('Description:.*?<td>(.*?)</td>')\n",
    "\tdate = re.compile('Date:.*?<td>(.*?)</td>')\n",
    "\tsubjects_string = re.compile('Subject:.*?<td>(.*?)</td>')\t\n",
    "\tdoc_type = 'image'\n",
    "\tsoup_string = str(soup.html)\n",
    "\ttitle_matches = title.search(soup_string)\n",
    "\ttry:\t\n",
    "\t\ttitle = title_matches.group(1)\n",
    "\texcept AttributeError:\n",
    "\t\ttitle = 'Untitled'\n",
    "\tprint(title)\t\t\n",
    "\tsubjects_match = subjects_string.search(soup_string)\n",
    "\tsubjects = subjects_match.group(1).replace(';',',')\n",
    "\tif 'chinese' in subjects.lower() or 'chinese' in title.lower():\n",
    "\t\tdate_matches = date.search(soup_string)\n",
    "\t\ttry:\t\n",
    "\t\t\tobject_date = date_matches.group(1)\n",
    "\t\texcept AttributeError:\n",
    "\t\t object_date = 'No date'\t\n",
    "\t\tif subjects.endswith('<br/>'):\n",
    "\t\t\tsubjects = subjects[:-5]\t\n",
    "\t\tsubjects = [x.strip() for x in subjects.split(',')]\t\t\t\n",
    "\t\timages = soup.find_all('img')\n",
    "\t\tfor image in images:\n",
    "\t\t\tif \"http://www.museumcollections.parks.ca.gov/media/previews/\" in image['src']:\n",
    "\t\t\t\tthumbnail = image['src']\n",
    "\t\t\t\timg = thumbnail.replace('previews', 'full')\n",
    "\t\tmy_source = 'CSP'\n",
    "\t\tcreator = 'Angel Island SP'\t\t\n",
    "\t\taddItem(title, thumbnail, url, institution, object_date, subjects, medium, type, my_source, creator)\n"
   ]
  },
  {
   "cell_type": "markdown",
   "metadata": {},
   "source": [
    "#Calling the Calisphere API, searching for the keywords \"Chinese Exclusion Act\", and returning data in a json file"
   ]
  },
  {
   "cell_type": "code",
   "execution_count": null,
   "metadata": {
    "collapsed": true
   },
   "outputs": [],
   "source": [
    "##### CALISPHERE ########### (so far only the image items, not the text items....)\n",
    "calisphere = requests.get('http://content.cdlib.org/search?facet=type-tab&relation=calisphere.universityofcalifornia.edu&style=cui&keyword=chinese+exclusion+act&x=0&y=0&rmode=json')\n",
    "#print(calisphere.status_code)"
   ]
  },
  {
   "cell_type": "markdown",
   "metadata": {},
   "source": [
    "#Loading json file from Calisphere into a python dictionary called \"c_data\""
   ]
  },
  {
   "cell_type": "code",
   "execution_count": null,
   "metadata": {
    "collapsed": true
   },
   "outputs": [],
   "source": [
    "# run Calisphere into a python dictonary\n",
    "c_data = json.loads(calisphere.text)"
   ]
  },
  {
   "cell_type": "markdown",
   "metadata": {},
   "source": [
    "#Manipulating the \"c_data\" dictionary and creating an object set (?) called \"calisphere_set\""
   ]
  },
  {
   "cell_type": "code",
   "execution_count": null,
   "metadata": {
    "collapsed": true
   },
   "outputs": [],
   "source": [
    "#json.dump(c_data, open(\"exclusion_results.txt\",'w'))\n",
    "\n",
    "# format Calisphere as Python dic\n",
    "# print (c_data) #prints all in dictionary\n",
    "#print (c_data['api']) #prints api key=>values literally\n",
    "calisphere_set = c_data['objset']\n",
    "for item in calisphere_set:\t\n",
    "\tthumbnail = item['files']['thumbnail']['src']\t\t\n",
    "\turl\t= item['qdc']['identifier']\n",
    "\turl = url[0]\n",
    "\ttitle = item['qdc']['title']\n",
    "\tif (isinstance(title, list)):\n",
    "\t\ttitle = title[0]\n",
    "\tprint(title)\t\n",
    "\tinstitution = item['courtesy_of']\n",
    "\ttry:\n",
    "\t\tobject_date = item['qdc']['date']['v']\n",
    "\texcept TypeError:\n",
    "\t\tobject_date = item['qdc']['date']\n",
    "\texcept KeyError:\n",
    "\t\tobject_date = item['qdc']['identifier']\n",
    "\t\tobject_date = object_date[1]\n",
    "\t\tobject_date = object_date['v']\n",
    "\tsubjects = item['qdc']['subject']\n",
    "\tnew_subjects = []\n",
    "\tfor subject in subjects:\n",
    "\t\tif isinstance(subject, str):\n",
    "#\t\t\tprint (subject)\n",
    "#\t\t\tprint (\"is a string\")\n",
    "\t\t\ttry:\t\t\t\n",
    "\t\t\t\tsplit_subjects = [x.strip() for x in subject.split(';')]\t\t\t\t\t\t\t\t\t\n",
    "\t\t\t\tfor new_subject in split_subjects:\n",
    "\t\t\t\t\tnew_subject= re.sub(r'\\s', ' ', new_subject)\n",
    "\t\t\t\t\tnew_subject= re.sub('\\n', '', new_subject)\n",
    "\t\t\t\t\tnew_subject=re.sub(' +',' ', new_subject)\t\t\t\t\t\n",
    "\t\t\t\t\tnew_subjects.append(str(new_subject))\n",
    "\t\t\texcept:\n",
    "\t\t\t\tpass\n",
    "\t\telse:\n",
    "\t\t\tnew_subjects.append(subject['v'])\n",
    "\tnew_subjects = list(filter(None, new_subjects))\n",
    "#\tfor s in new_subjects:\n",
    "#\t\tprint (s)\n",
    "\ttype = 'image'\n",
    "\tif isinstance(item['qdc']['format'], list):\n",
    "\t\titem_format = item['qdc']['format']\n",
    "\t\tmedium = item_format[0]\n",
    "\telse:\n",
    "\t\tmedium = 'unknown'\n",
    "\tmy_source = 'Calisphere'\t\t\t\n",
    "\taddItem(title, thumbnail, url, institution, object_date, new_subjects, medium, type, my_source )\n"
   ]
  },
  {
   "cell_type": "markdown",
   "metadata": {},
   "source": [
    "#Calling the Digital Public Library of America (DPLA) API, searching for the keywords chinese+exclusion+act, and returning data in a json file"
   ]
  },
  {
   "cell_type": "code",
   "execution_count": null,
   "metadata": {
    "collapsed": true
   },
   "outputs": [],
   "source": [
    "####### DPLA ############\n",
    "payload = {'q': 'chinese+exclusion+act', 'page_size': 10000,  'api_key': my_file.dpla}\n",
    "dpla = requests.get('http://api.dp.la/v2/items', params=payload)\n",
    "\n",
    "#print(dpla.status_code)"
   ]
  },
  {
   "cell_type": "markdown",
   "metadata": {},
   "source": [
    "#Loading json file from DPLA into a python dictionary called \"dpla_data\""
   ]
  },
  {
   "cell_type": "code",
   "execution_count": null,
   "metadata": {
    "collapsed": true
   },
   "outputs": [],
   "source": [
    "# run it into a python dictionary\n",
    "dpla_data = json.loads(dpla.text)\n",
    "\n",
    "for item in dpla_data['docs']:\n",
    "\ttitle = item['sourceResource']['title']\n",
    "\tif isinstance (title, list):\n",
    "   \t\ttitle = title[0]\n",
    "\tprint (title)\t\t\n",
    "\ttry:\n",
    "\t\tthumbnail = item['originalRecord']['objects']['object']\n",
    "\t\ttry:\n",
    "\t\t\tthumbnail = thumbnail[0]\n",
    "\t\t\tthumbnail = thumbnail['thumbnail-url']\n",
    "\t\texcept KeyError:\n",
    "\t\t\tthumbnail = thumbnail['thumbnail-url']\t\t\t\t\t\n",
    "\texcept KeyError:\n",
    "\t\tif 'object' in item:\n",
    "\t\t\tthumbnail = item['object']\n",
    "\t\telse:\t\t\n",
    "\t\t\tthumbnail=\"unknown\"\n",
    "# Some Hathi from Purdue have no thumb\t\t\n",
    "\turl= item['isShownAt']\n",
    "\tinstitution = item['provider']['name']\t\t\t\t\t\n",
    "\ttry:\n",
    "\t\tobject_date = item['sourceResource']['date']['displayDate']\n",
    "# this line solely for one object 'Changing socio-cultural patterns'\n",
    "\t\ttry:\n",
    "\t\t\tdate_test = item['originalRecord']['date']\n",
    "\t\t\tif isinstance (date_test, list):\n",
    "\t\t\t\tobject_date = item['originalRecord']['date']\n",
    "\t\t\t\tobject_date = object_date[0]\n",
    "\t\texcept:\n",
    "\t\t\tpass\t\t\n",
    "\texcept KeyError:\n",
    "\t\tobject_date = item['originalRecord']['hierarchy']['hierarchy-item']\n",
    "\t\tobject_date = object_date[0]\n",
    "\t\tobject_date = object_date['hierarchy-item-inclusive-dates']\t\t\t\n",
    "\ttry:\n",
    "\t\titem_creator = item['sourceResource']['creator']\n",
    "\t\tif isinstance (item_creator, list):\n",
    "\t\t\titem_creator = item_creator[0]\t\t\t\n",
    "\texcept:\n",
    "\t\ttry:\n",
    "\t\t\titem_creator = item['sourceResource']['publisher']\n",
    "\t\t\titem_creator = item_creator[0]\n",
    "\t\texcept:\n",
    "\t\t\tpass\n",
    "\tsubjects = []\t\n",
    "\ttry:\n",
    "\t\titem['sourceResource']['subject']\n",
    "\t\tfor subject in item['sourceResource']['subject']:\n",
    "\t\t\tif isinstance(subject, str):\n",
    "\t\t\t\tsubjects.append(subject)\n",
    "\t\t\telse:\n",
    "\t\t\t\tif isinstance(subject, dict):\n",
    "\t\t\t\t\tsubjects.append(subject['name'])\t\t\t\n",
    "\texcept KeyError:\n",
    "\t\tsubjects.append('NO SUBJECTS HERE')\t\t\t\t\t\t\t\t\t\t\t\n",
    "# check if type exists\n",
    "\ttry:\n",
    "\t\ttype = item['sourceResource']['type']\n",
    "\texcept KeyError:\n",
    "\t\ttype = 'unknown'\n",
    "# check medium  \t\t\n",
    "\ttry:\n",
    "\t\tmedium = item['originalRecord']['physical-occurrences']['physical-occurrence']['media-occurrences']['media-occurrence']['media-type']\n",
    "\texcept:\n",
    "\t\tmedium= 'unknown'\n",
    "\tmy_source = 'DPLA'\t \t\t\n",
    "\taddItem(title, thumbnail, url, institution, object_date, subjects, medium, type, my_source, item_creator)\n",
    "\n",
    "\n",
    "csp_url = \"http://www.museumcollections.parks.ca.gov/code/emuseum.asp?collection=6002&collectionname=Angel%20Island%20Chinese%20Immigration%20Certificates&style=Browse&currentrecord=1&page=collection&profile=objects&searchdesc=Angel%20Island%20Chinese%20Immigration%20Certificates&action=collection&style=single&currentrecord=1\"\n",
    "while (csp_url):\n",
    "#\tprint (csp_url)\n",
    "\titem_page = requests.get(csp_url) \n",
    "\titem_html = item_page.text\n",
    "\tsoup = BeautifulSoup(item_html)\n",
    "\tgetCSPInfo(csp_url, soup)\n",
    "\tresults_div = soup.find(id='navwrapper')\n",
    "\tresults_div = results_div.find_all('a')\n",
    "#\tprint (results_div)\n",
    "\tnext_link=''\n",
    "\tfor result in results_div:\n",
    "\t\tif result.string:\n",
    "\t\t\tif 'next' in result.string:\n",
    "\t\t\t\tif (result['href']):\n",
    "\t\t\t\t\tnext_link = result['href']\n",
    "\t\t\t\t\tcsp_url = \"http://www.museumcollections.parks.ca.gov/code/\"+next_link\n",
    "\tif next_link == '':\n",
    "\t\tcsp_url = False\t\n",
    "\n",
    "csp_url2 = \"http://www.museumcollections.parks.ca.gov/code/emuseum.asp?collection=4120&collectionname=Angel%20Island%20Immigration%20Station&style=single&currentrecord=11&page=collection&profile=objects&searchdesc=Angel%20Island%20Immigration%20Station&action=collection&currentrecord=1\"\n",
    "while (csp_url2):\n",
    "#\tprint (csp_url2)\n",
    "\titem_page = requests.get(csp_url2) \n",
    "\titem_html = item_page.text\n",
    "\tsoup = BeautifulSoup(item_html)\n",
    "\tgetCSPInfo2(csp_url2, soup)\n",
    "\tresults_div = soup.find(id='navwrapper')\n",
    "\tresults_div = results_div.find_all('a')\n",
    "#\tprint (results_div)\n",
    "\tnext_link=''\n",
    "\tfor result in results_div:\n",
    "\t\tif result.string:\n",
    "\t\t\tif 'next' in result.string:\n",
    "\t\t\t\tif (result['href']):\n",
    "\t\t\t\t\tnext_link = result['href']\n",
    "\t\t\t\t\tcsp_url2 = \"http://www.museumcollections.parks.ca.gov/code/\"+next_link\n",
    "\tif next_link == '':\n",
    "\t\tcsp_url2 = False\n",
    "\n",
    "# PRINT ALL SUBJECTS\n",
    "with open(\"master_subjects\",\"w\") as subjects_list:\n",
    "\tfor subject_key in subjects_dict:\n",
    "\t\tsubjects_list.write(\"'\"+subject_key+\"',\"+str(subjects_dict[subject_key])+\"\\n\")\n",
    "\n",
    "with open(\"master_final\",\"w\") as results_list:\n",
    "\tjson.dump(all_results, results_list, indent = 4, ensure_ascii=False)\n",
    "\n",
    "\t\t\t\n",
    "# MAKE WEB PAGE\n",
    "with open(\"exclusion.html\",\"w\") as webpage:\n",
    "\twebpage.write(\"<HTML><HEAD><TITLE>Exclusion Mash-Up</TITLE></HEAD>\")\n",
    "\twebpage.write(\"<BODY>\")\n",
    "\tfrom operator import itemgetter\n",
    "\tall_results.sort(key=itemgetter('norm_date'), reverse=False)\t\n",
    "\tfor result in all_results:\n",
    "\t\twebpage.write(\"<A HREF='\"+result['url']+\"'><IMG SRC='thumbnails/\"+result['local_thumbnail']+\"' WIDTH='120'></A>\\n\")\n",
    "\twebpage.write(\"</BODY></HTML>\")  \t\t\t\t\t\n",
    "\n"
   ]
  }
 ],
 "metadata": {
  "kernelspec": {
   "display_name": "Python 3",
   "language": "python",
   "name": "python3"
  },
  "language_info": {
   "codemirror_mode": {
    "name": "ipython",
    "version": 3
   },
   "file_extension": ".py",
   "mimetype": "text/x-python",
   "name": "python",
   "nbconvert_exporter": "python",
   "pygments_lexer": "ipython3",
   "version": "3.5.1"
  }
 },
 "nbformat": 4,
 "nbformat_minor": 0
}
